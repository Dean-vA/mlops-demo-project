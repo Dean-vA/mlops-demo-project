{
 "cells": [
  {
   "cell_type": "code",
   "execution_count": 1,
   "id": "d0bdd772",
   "metadata": {},
   "outputs": [
    {
     "name": "stdout",
     "output_type": "stream",
     "text": [
      "Collecting ffmpeg-python\n",
      "  Using cached ffmpeg_python-0.2.0-py3-none-any.whl.metadata (1.7 kB)\n",
      "Collecting future (from ffmpeg-python)\n",
      "  Using cached future-1.0.0-py3-none-any.whl.metadata (4.0 kB)\n",
      "Using cached ffmpeg_python-0.2.0-py3-none-any.whl (25 kB)\n",
      "Using cached future-1.0.0-py3-none-any.whl (491 kB)\n",
      "Installing collected packages: future, ffmpeg-python\n",
      "\n",
      "   ---------------------------------------- 0/2 [future]\n",
      "   ---------------------------------------- 0/2 [future]\n",
      "   ---------------------------------------- 0/2 [future]\n",
      "   ---------------------------------------- 0/2 [future]\n",
      "   ---------------------------------------- 0/2 [future]\n",
      "   ---------------------------------------- 0/2 [future]\n",
      "   ---------------------------------------- 0/2 [future]\n",
      "   ---------------------------------------- 2/2 [ffmpeg-python]\n",
      "\n",
      "Successfully installed ffmpeg-python-0.2.0 future-1.0.0\n"
     ]
    }
   ],
   "source": [
    "!pip install ffmpeg-python"
   ]
  },
  {
   "cell_type": "code",
   "execution_count": 1,
   "id": "1df1f5cc",
   "metadata": {},
   "outputs": [
    {
     "data": {
      "text/plain": [
       "['.env',\n",
       " 'dnd_lora_checkpoints',\n",
       " 'dnd_lora_final',\n",
       " 'downloads',\n",
       " 'download_yt.ipynb',\n",
       " 'gpu_test.ipynb',\n",
       " 'lora_training.ipynb',\n",
       " 'split_wav_from_video.ipynb',\n",
       " 'test_data',\n",
       " 'test_summary.ipynb']"
      ]
     },
     "execution_count": 1,
     "metadata": {},
     "output_type": "execute_result"
    }
   ],
   "source": [
    "import os\n",
    "\n",
    "# list files in the current directory\n",
    "os.listdir('.')"
   ]
  },
  {
   "cell_type": "code",
   "execution_count": 18,
   "id": "f70c0560",
   "metadata": {},
   "outputs": [
    {
     "name": "stdout",
     "output_type": "stream",
     "text": [
      "File exists: True\n"
     ]
    }
   ],
   "source": [
    "import os\n",
    "file_path = \"C:\\\\Users\\\\deanv\\\\Videos\\\\2025-04-07 19-46-28.mkv\"\n",
    "print(f\"File exists: {os.path.exists(file_path)}\")"
   ]
  },
  {
   "cell_type": "code",
   "execution_count": 19,
   "id": "9dc6e446",
   "metadata": {},
   "outputs": [],
   "source": [
    "import ffmpeg\n",
    "\n",
    "try:\n",
    "    input_video = ffmpeg.input(file_path)\n",
    "    audio = ffmpeg.output(input_video, 'Cloud Bound Isles audio.wav', ar=16000, ac=1)\n",
    "    ffmpeg.run(audio, overwrite_output=True)\n",
    "except ffmpeg.Error as e:\n",
    "    print('stdout:', e.stdout.decode('utf8'))\n",
    "    print('stderr:', e.stderr.decode('utf8'))"
   ]
  },
  {
   "cell_type": "code",
   "execution_count": 20,
   "id": "1be580ad",
   "metadata": {},
   "outputs": [
    {
     "name": "stdout",
     "output_type": "stream",
     "text": [
      "Audio duration: 13354.453312 seconds\n"
     ]
    }
   ],
   "source": [
    "import math\n",
    "\n",
    "# Get duration\n",
    "probe = ffmpeg.probe('Cloud Bound Isles audio.wav')\n",
    "duration = float(probe['streams'][0]['duration'])\n",
    "print(f\"Audio duration: {duration} seconds\")\n"
   ]
  },
  {
   "cell_type": "code",
   "execution_count": 21,
   "id": "bdd5c104",
   "metadata": {},
   "outputs": [
    {
     "name": "stdout",
     "output_type": "stream",
     "text": [
      "Created Cloud Bound Isles audio chunk_001.wav\n",
      "Created Cloud Bound Isles audio chunk_002.wav\n",
      "Created Cloud Bound Isles audio chunk_003.wav\n",
      "Created Cloud Bound Isles audio chunk_004.wav\n"
     ]
    }
   ],
   "source": [
    "chunk_duration = 3600  # seconds per chunk\n",
    "num_chunks = math.ceil(duration / chunk_duration)\n",
    "\n",
    "for i in range(num_chunks):\n",
    "    start_time = i * chunk_duration\n",
    "    \n",
    "    input_audio = ffmpeg.input('Cloud Bound Isles audio.wav', ss=start_time, t=chunk_duration)\n",
    "    output = ffmpeg.output(input_audio, f'Cloud Bound Isles audio long chunk_{i+1:03d}.wav')\n",
    "    ffmpeg.run(output, overwrite_output=True, quiet=True)\n",
    "    \n",
    "    print(f\"Created Cloud Bound Isles audio chunk_{i+1:03d}.wav\")"
   ]
  },
  {
   "cell_type": "code",
   "execution_count": null,
   "id": "f47b7355",
   "metadata": {},
   "outputs": [],
   "source": []
  }
 ],
 "metadata": {
  "kernelspec": {
   "display_name": "venv",
   "language": "python",
   "name": "python3"
  },
  "language_info": {
   "codemirror_mode": {
    "name": "ipython",
    "version": 3
   },
   "file_extension": ".py",
   "mimetype": "text/x-python",
   "name": "python",
   "nbconvert_exporter": "python",
   "pygments_lexer": "ipython3",
   "version": "3.11.9"
  }
 },
 "nbformat": 4,
 "nbformat_minor": 5
}
