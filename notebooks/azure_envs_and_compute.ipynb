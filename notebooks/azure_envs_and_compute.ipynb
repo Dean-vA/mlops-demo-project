{
 "cells": [
  {
   "cell_type": "code",
   "execution_count": 4,
   "id": "04ba41ae",
   "metadata": {},
   "outputs": [
    {
     "name": "stderr",
     "output_type": "stream",
     "text": [
      "Overriding of current TracerProvider is not allowed\n",
      "Overriding of current LoggerProvider is not allowed\n",
      "Overriding of current MeterProvider is not allowed\n",
      "Attempting to instrument while already instrumented\n",
      "Attempting to instrument while already instrumented\n",
      "Attempting to instrument while already instrumented\n"
     ]
    }
   ],
   "source": [
    "from azureml.core import Workspace, Datastore\n",
    "from azureml.core.authentication import InteractiveLoginAuthentication\n",
    "from azureml.core import Dataset\n",
    "from azure.ai.ml import MLClient\n",
    "from azure.identity import InteractiveBrowserCredential\n",
    "\n",
    "subscription_id = \"0a94de80-6d3b-49f2-b3e9-ec5818862801\"\n",
    "resource_group = \"buas-y2\"\n",
    "workspace_name = \"Y2D-Staff-2025\"\n",
    "\n",
    "# Log in using interactive Auth\n",
    "auth = InteractiveLoginAuthentication()\n",
    "\n",
    "# Connect to workspace\n",
    "workspace = Workspace(subscription_id=subscription_id,\n",
    "                      resource_group=resource_group,\n",
    "                      workspace_name=workspace_name,\n",
    "                      auth=auth,\n",
    "                      )\n",
    "\n",
    "# Connect to the ML Client\n",
    "credential = InteractiveBrowserCredential()\n",
    "\n",
    "# Get a handle to the workspace\n",
    "ml_client = MLClient(\n",
    "    credential=credential,\n",
    "    subscription_id=subscription_id,\n",
    "    resource_group_name=resource_group,\n",
    "    workspace_name=workspace_name,\n",
    ")"
   ]
  },
  {
   "cell_type": "code",
   "execution_count": 5,
   "id": "dd70ffec",
   "metadata": {},
   "outputs": [
    {
     "name": "stderr",
     "output_type": "stream",
     "text": [
      "Class KubernetesCompute: This is an experimental class, and may change at any time. Please see https://aka.ms/azuremlexperimental for more information.\n"
     ]
    },
    {
     "name": "stdout",
     "output_type": "stream",
     "text": [
      "🖥️ adsai-lambda-0: Kubernetes, Provisioning state: Succeeded\n"
     ]
    }
   ],
   "source": [
    "# Check for existing compute targets\n",
    "compute_targets = workspace.compute_targets\n",
    "\n",
    "for name, ct in compute_targets.items():\n",
    "    print(f'🖥️ {name}: {ct.type}, Provisioning state: {ct.provisioning_state}')"
   ]
  },
  {
   "cell_type": "code",
   "execution_count": 6,
   "id": "7d1230af",
   "metadata": {},
   "outputs": [
    {
     "name": "stdout",
     "output_type": "stream",
     "text": [
      "Available compute targets:\n",
      "🖥️ adsai-lambda-0: kubernetes, Provisioning state: Succeeded\n"
     ]
    }
   ],
   "source": [
    "# Check for existing compute targets in ML Client\n",
    "print(\"Available compute targets:\")\n",
    "for compute in ml_client.compute.list():\n",
    "    print(f'🖥️ {compute.name}: {compute.type}, Provisioning state: {compute.provisioning_state}')"
   ]
  },
  {
   "cell_type": "code",
   "execution_count": 3,
   "id": "a52a0b6f",
   "metadata": {},
   "outputs": [
    {
     "name": "stderr",
     "output_type": "stream",
     "text": [
      "Property base_image is mutually exclusive with base_dockerfile. Reset base_image to None\n"
     ]
    },
    {
     "data": {
      "text/plain": [
       "{\n",
       "    \"assetId\": \"azureml://locations/westeurope/workspaces/db510a41-155d-4ea7-8569-34a7f7be6be0/environments/my-docker-environment/versions/1\",\n",
       "    \"databricks\": {\n",
       "        \"eggLibraries\": [],\n",
       "        \"jarLibraries\": [],\n",
       "        \"mavenLibraries\": [],\n",
       "        \"pypiLibraries\": [],\n",
       "        \"rcranLibraries\": []\n",
       "    },\n",
       "    \"docker\": {\n",
       "        \"arguments\": [],\n",
       "        \"baseDockerfile\": \"\\nFROM ubuntu:18.04\\nRUN apt-get update &&     apt-get install -y python3-pip &&     pip3 install azureml-defaults\\n\",\n",
       "        \"baseImage\": null,\n",
       "        \"baseImageRegistry\": {\n",
       "            \"address\": null,\n",
       "            \"password\": null,\n",
       "            \"registryIdentity\": null,\n",
       "            \"username\": null\n",
       "        },\n",
       "        \"buildContext\": null,\n",
       "        \"enabled\": false,\n",
       "        \"platform\": {\n",
       "            \"architecture\": \"amd64\",\n",
       "            \"os\": \"Linux\"\n",
       "        },\n",
       "        \"sharedVolumes\": true,\n",
       "        \"shmSize\": null\n",
       "    },\n",
       "    \"environmentVariables\": {\n",
       "        \"EXAMPLE_ENV_VAR\": \"EXAMPLE_VALUE\"\n",
       "    },\n",
       "    \"inferencingStackVersion\": null,\n",
       "    \"name\": \"my-docker-environment\",\n",
       "    \"python\": {\n",
       "        \"baseCondaEnvironment\": null,\n",
       "        \"condaDependencies\": {\n",
       "            \"channels\": [\n",
       "                \"anaconda\",\n",
       "                \"conda-forge\"\n",
       "            ],\n",
       "            \"dependencies\": [\n",
       "                \"python=3.8\",\n",
       "                {\n",
       "                    \"pip\": [\n",
       "                        \"azureml-defaults~=1.60.0\"\n",
       "                    ]\n",
       "                },\n",
       "                \"numpy\",\n",
       "                \"pandas\",\n",
       "                \"scikit-learn\"\n",
       "            ],\n",
       "            \"name\": \"project_environment\"\n",
       "        },\n",
       "        \"condaDependenciesFile\": null,\n",
       "        \"interpreterPath\": \"python\",\n",
       "        \"userManagedDependencies\": false\n",
       "    },\n",
       "    \"r\": null,\n",
       "    \"spark\": {\n",
       "        \"packages\": [],\n",
       "        \"precachePackages\": true,\n",
       "        \"repositories\": []\n",
       "    },\n",
       "    \"version\": \"1\"\n",
       "}"
      ]
     },
     "execution_count": 3,
     "metadata": {},
     "output_type": "execute_result"
    }
   ],
   "source": [
    "from azureml.core import Environment\n",
    "from azureml.core.conda_dependencies import CondaDependencies\n",
    "from azureml.core.runconfig import DockerConfiguration\n",
    "\n",
    "# Create a new environment\n",
    "env = Environment(name=\"my-docker-environment\")\n",
    "\n",
    "# Create a base Docker image to use for the environment\n",
    "env.docker.base_dockerfile = \"\"\"\n",
    "FROM ubuntu:18.04\n",
    "RUN apt-get update && \\\n",
    "    apt-get install -y python3-pip && \\\n",
    "    pip3 install azureml-defaults\n",
    "\"\"\"\n",
    "\n",
    "# Create a new Conda dependencies object\n",
    "conda_dep = CondaDependencies.create(python_version=\"3.8\")\n",
    "\n",
    "# Add some package dependencies\n",
    "conda_dep.add_conda_package(\"numpy\")\n",
    "conda_dep.add_conda_package(\"pandas\")\n",
    "conda_dep.add_conda_package(\"scikit-learn\")\n",
    "\n",
    "# Add the dependencies to the environment\n",
    "env.python.conda_dependencies = conda_dep\n",
    "\n",
    "# Specify a Docker-based environment\n",
    "docker_config = DockerConfiguration(use_docker=True)\n",
    "\n",
    "# Register the environment to re-use later\n",
    "env.register(workspace)"
   ]
  },
  {
   "cell_type": "code",
   "execution_count": 7,
   "id": "e22b2336",
   "metadata": {},
   "outputs": [
    {
     "name": "stdout",
     "output_type": "stream",
     "text": [
      "Environment name: AzureML-ACPT-pytorch-1.13-py38-cuda11.7-gpu, latest version: 10\n"
     ]
    }
   ],
   "source": [
    "# List all available environments.\n",
    "envs = ml_client.environments.list()\n",
    "for env in envs:\n",
    "    print(f\"Environment name: {env.name}, latest version: {env.latest_version}\")"
   ]
  },
  {
   "cell_type": "code",
   "execution_count": null,
   "id": "0fb4225b",
   "metadata": {},
   "outputs": [
    {
     "name": "stdout",
     "output_type": "stream",
     "text": [
      "Environment with name training-environment-test is registered to workspace, the environment version is None\n"
     ]
    }
   ],
   "source": [
    "from azureml.core import Environment\n",
    "\n",
    "custom_env_name = \"training-environment-test\"\n",
    "version = \"1.0.1\"\n",
    "\n",
    "# Create a custom environment.\n",
    "env = Environment(\n",
    "    name=custom_env_name,\n",
    "    description=\"Custom environment for training with PyTorch\",\n",
    "    tags={\"pytorch\": \"2.0\"}, #for example, these just give you a way to tag your environments with metadata\n",
    "    conda_file=\"conda.yaml\",\n",
    "    image= \"mcr.microsoft.com/azureml/openmpi3.1.2-ubuntu18.04:latest\",\n",
    "    version=version,\n",
    ")\n",
    "\n",
    "# Register the environment to the workspace.\n",
    "env.register(workspace=workspace)\n",
    "\n",
    "print(\n",
    "    f\"Environment with name {env.name} is registered to workspace, the environment version is {env.version}\"\n",
    ")\n"
   ]
  },
  {
   "cell_type": "code",
   "execution_count": 7,
   "id": "ada68600",
   "metadata": {},
   "outputs": [
    {
     "name": "stdout",
     "output_type": "stream",
     "text": [
      "Environment with name training-environment-sdkv2 is registered to workspace, the environment version is 1.0.5\n"
     ]
    }
   ],
   "source": [
    "from azure.ai.ml.entities import Environment\n",
    "\n",
    "custom_env_name = \"training-environment-sdkv2\"\n",
    "version = \"1.0.5\"\n",
    "\n",
    "# Create a custom environment using SDK v2\n",
    "env = Environment(\n",
    "    name=custom_env_name,\n",
    "    description=\"Custom environment for training with PyTorch\",\n",
    "    tags={\"pytorch\": \"2.0\"},\n",
    "    conda_file=\"conda.yaml\",\n",
    "    image=\"mcr.microsoft.com/aifx/acpt/stable-ubuntu2204-cu118-py310-torch260:biweekly.202505.2.v1\",\n",
    "    version=version,\n",
    ")\n",
    "\n",
    "# Register the environment to the workspace using ml_client\n",
    "registered_env = ml_client.environments.create_or_update(env)\n",
    "\n",
    "print(\n",
    "    f\"Environment with name {registered_env.name} is registered to workspace, the environment version is {registered_env.version}\"\n",
    ")"
   ]
  },
  {
   "cell_type": "code",
   "execution_count": 15,
   "id": "a149b3c8",
   "metadata": {},
   "outputs": [
    {
     "name": "stdout",
     "output_type": "stream",
     "text": [
      "Environment name: Example, latest version: 1\n",
      "Environment name: training-environment-test, latest version: 1\n",
      "Environment name: training-environment-sdkv2, latest version: 1.0.3\n",
      "Environment name: training-environment, latest version: 1\n",
      "Environment name: AzureML-ACPT-pytorch-1.13-py38-cuda11.7-gpu, latest version: 10\n"
     ]
    }
   ],
   "source": [
    "# List all available environments.\n",
    "envs = ml_client.environments.list()\n",
    "for env in envs:\n",
    "    print(f\"Environment name: {env.name}, latest version: {env.latest_version}\")"
   ]
  },
  {
   "cell_type": "code",
   "execution_count": null,
   "id": "fb76bc2e",
   "metadata": {},
   "outputs": [],
   "source": []
  }
 ],
 "metadata": {
  "kernelspec": {
   "display_name": "venv",
   "language": "python",
   "name": "python3"
  },
  "language_info": {
   "codemirror_mode": {
    "name": "ipython",
    "version": 3
   },
   "file_extension": ".py",
   "mimetype": "text/x-python",
   "name": "python",
   "nbconvert_exporter": "python",
   "pygments_lexer": "ipython3",
   "version": "3.11.9"
  }
 },
 "nbformat": 4,
 "nbformat_minor": 5
}
