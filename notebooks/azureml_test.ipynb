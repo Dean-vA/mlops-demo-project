{
 "cells": [
  {
   "cell_type": "code",
   "execution_count": 1,
   "metadata": {},
   "outputs": [],
   "source": [
    "from azure.ai.ml import MLClient, command\n",
    "from azure.identity import InteractiveBrowserCredential\n",
    "from azure.ai.ml.entities import Environment\n",
    "\n",
    "# Initialize ML Client\n",
    "ml_client = MLClient(\n",
    "    credential=InteractiveBrowserCredential(),\n",
    "    subscription_id=\"0a94de80-6d3b-49f2-b3e9-ec5818862801\",\n",
    "    resource_group_name=\"buas-y2\",\n",
    "    workspace_name=\"Test\"\n",
    ")"
   ]
  },
  {
   "cell_type": "code",
   "execution_count": 2,
   "metadata": {},
   "outputs": [],
   "source": [
    "# Define the job\n",
    "job = command(\n",
    "    code=\".\",  # local path where test_gpu.py is located\n",
    "    command=\"python test_gpu.py\",\n",
    "    environment=Environment(\n",
    "        image=\"mcr.microsoft.com/azureml/openmpi4.1.0-cuda11.8-cudnn8-ubuntu22.04:latest\"\n",
    "    ),\n",
    "    compute=\"adsai-lambda-0\",\n",
    "    instance_type=\"gpuinstance\",\n",
    "    experiment_name=\"gpu-test-experiment\",\n",
    "    display_name=\"GPU Test Job\"\n",
    ")"
   ]
  },
  {
   "cell_type": "code",
   "execution_count": null,
   "metadata": {},
   "outputs": [
    {
     "name": "stderr",
     "output_type": "stream",
     "text": [
      "Class AutoDeleteSettingSchema: This is an experimental class, and may change at any time. Please see https://aka.ms/azuremlexperimental for more information.\n",
      "Class AutoDeleteConditionSchema: This is an experimental class, and may change at any time. Please see https://aka.ms/azuremlexperimental for more information.\n",
      "Class BaseAutoDeleteSettingSchema: This is an experimental class, and may change at any time. Please see https://aka.ms/azuremlexperimental for more information.\n",
      "Class IntellectualPropertySchema: This is an experimental class, and may change at any time. Please see https://aka.ms/azuremlexperimental for more information.\n",
      "Class ProtectionLevelSchema: This is an experimental class, and may change at any time. Please see https://aka.ms/azuremlexperimental for more information.\n",
      "Class BaseIntellectualPropertySchema: This is an experimental class, and may change at any time. Please see https://aka.ms/azuremlexperimental for more information.\n",
      "Your file exceeds 100 MB. If you experience low speeds, latency, or broken connections, we recommend using the AzCopyv10 tool for this file transfer.\n",
      "\n",
      "Example: azcopy copy 'C:\\Users\\deanv\\Dropbox\\0_Buas\\2024-2025\\Y2D\\Demo Project\\mlops-demo-project\\notebooks' 'https://y2d20254243635300.blob.core.windows.net/db510a41-155d-4ea7-8569-34a7f7be6be0-11t8ydukz0l3gf2m3vuro5otoh/notebooks' \n",
      "\n",
      "See https://docs.microsoft.com/azure/storage/common/storage-use-azcopy-v10 for more information.\n",
      "\u001b[32mUploading notebooks (12602.64 MBs):   5%|4         | 599434738/12602644117 [01:03<21:20, 9371194.57it/s]  \n"
     ]
    }
   ],
   "source": [
    "# Submit the job\n",
    "returned_job = ml_client.jobs.create_or_update(job)\n",
    "print(f\"Job URL: {returned_job.studio_url}\")\n"
   ]
  },
  {
   "cell_type": "code",
   "execution_count": null,
   "metadata": {},
   "outputs": [],
   "source": []
  }
 ],
 "metadata": {
  "kernelspec": {
   "display_name": "Python 3",
   "language": "python",
   "name": "python3"
  },
  "language_info": {
   "codemirror_mode": {
    "name": "ipython",
    "version": 3
   },
   "file_extension": ".py",
   "mimetype": "text/x-python",
   "name": "python",
   "nbconvert_exporter": "python",
   "pygments_lexer": "ipython3",
   "version": "3.11.9"
  }
 },
 "nbformat": 4,
 "nbformat_minor": 2
}
