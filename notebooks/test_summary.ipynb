{
 "cells": [
  {
   "cell_type": "code",
   "execution_count": 9,
   "id": "324e52ec",
   "metadata": {},
   "outputs": [
    {
     "name": "stdout",
     "output_type": "stream",
     "text": [
      "Requirement already satisfied: openai in c:\\users\\deanv\\appdata\\local\\packages\\pythonsoftwarefoundation.python.3.11_qbz5n2kfra8p0\\localcache\\roaming\\pypoetry\\venv\\lib\\site-packages (1.82.0)\n",
      "Requirement already satisfied: anyio<5,>=3.5.0 in c:\\users\\deanv\\appdata\\local\\packages\\pythonsoftwarefoundation.python.3.11_qbz5n2kfra8p0\\localcache\\roaming\\pypoetry\\venv\\lib\\site-packages (from openai) (4.9.0)\n",
      "Requirement already satisfied: distro<2,>=1.7.0 in c:\\users\\deanv\\appdata\\local\\packages\\pythonsoftwarefoundation.python.3.11_qbz5n2kfra8p0\\localcache\\roaming\\pypoetry\\venv\\lib\\site-packages (from openai) (1.9.0)\n",
      "Requirement already satisfied: httpx<1,>=0.23.0 in c:\\users\\deanv\\appdata\\local\\packages\\pythonsoftwarefoundation.python.3.11_qbz5n2kfra8p0\\localcache\\roaming\\pypoetry\\venv\\lib\\site-packages (from openai) (0.28.1)\n",
      "Requirement already satisfied: jiter<1,>=0.4.0 in c:\\users\\deanv\\appdata\\local\\packages\\pythonsoftwarefoundation.python.3.11_qbz5n2kfra8p0\\localcache\\roaming\\pypoetry\\venv\\lib\\site-packages (from openai) (0.10.0)\n",
      "Requirement already satisfied: pydantic<3,>=1.9.0 in c:\\users\\deanv\\appdata\\local\\packages\\pythonsoftwarefoundation.python.3.11_qbz5n2kfra8p0\\localcache\\roaming\\pypoetry\\venv\\lib\\site-packages (from openai) (2.11.5)\n",
      "Requirement already satisfied: sniffio in c:\\users\\deanv\\appdata\\local\\packages\\pythonsoftwarefoundation.python.3.11_qbz5n2kfra8p0\\localcache\\roaming\\pypoetry\\venv\\lib\\site-packages (from openai) (1.3.1)\n",
      "Requirement already satisfied: tqdm>4 in c:\\users\\deanv\\appdata\\local\\packages\\pythonsoftwarefoundation.python.3.11_qbz5n2kfra8p0\\localcache\\roaming\\pypoetry\\venv\\lib\\site-packages (from openai) (4.67.1)\n",
      "Requirement already satisfied: typing-extensions<5,>=4.11 in c:\\users\\deanv\\appdata\\local\\packages\\pythonsoftwarefoundation.python.3.11_qbz5n2kfra8p0\\localcache\\roaming\\pypoetry\\venv\\lib\\site-packages (from openai) (4.13.2)\n",
      "Requirement already satisfied: idna>=2.8 in c:\\users\\deanv\\appdata\\local\\packages\\pythonsoftwarefoundation.python.3.11_qbz5n2kfra8p0\\localcache\\roaming\\pypoetry\\venv\\lib\\site-packages (from anyio<5,>=3.5.0->openai) (3.10)\n",
      "Requirement already satisfied: certifi in c:\\users\\deanv\\appdata\\local\\packages\\pythonsoftwarefoundation.python.3.11_qbz5n2kfra8p0\\localcache\\roaming\\pypoetry\\venv\\lib\\site-packages (from httpx<1,>=0.23.0->openai) (2025.4.26)\n",
      "Requirement already satisfied: httpcore==1.* in c:\\users\\deanv\\appdata\\local\\packages\\pythonsoftwarefoundation.python.3.11_qbz5n2kfra8p0\\localcache\\roaming\\pypoetry\\venv\\lib\\site-packages (from httpx<1,>=0.23.0->openai) (1.0.9)\n",
      "Requirement already satisfied: h11>=0.16 in c:\\users\\deanv\\appdata\\local\\packages\\pythonsoftwarefoundation.python.3.11_qbz5n2kfra8p0\\localcache\\roaming\\pypoetry\\venv\\lib\\site-packages (from httpcore==1.*->httpx<1,>=0.23.0->openai) (0.16.0)\n",
      "Requirement already satisfied: annotated-types>=0.6.0 in c:\\users\\deanv\\appdata\\local\\packages\\pythonsoftwarefoundation.python.3.11_qbz5n2kfra8p0\\localcache\\roaming\\pypoetry\\venv\\lib\\site-packages (from pydantic<3,>=1.9.0->openai) (0.7.0)\n",
      "Requirement already satisfied: pydantic-core==2.33.2 in c:\\users\\deanv\\appdata\\local\\packages\\pythonsoftwarefoundation.python.3.11_qbz5n2kfra8p0\\localcache\\roaming\\pypoetry\\venv\\lib\\site-packages (from pydantic<3,>=1.9.0->openai) (2.33.2)\n",
      "Requirement already satisfied: typing-inspection>=0.4.0 in c:\\users\\deanv\\appdata\\local\\packages\\pythonsoftwarefoundation.python.3.11_qbz5n2kfra8p0\\localcache\\roaming\\pypoetry\\venv\\lib\\site-packages (from pydantic<3,>=1.9.0->openai) (0.4.1)\n",
      "Requirement already satisfied: colorama in c:\\users\\deanv\\appdata\\local\\packages\\pythonsoftwarefoundation.python.3.11_qbz5n2kfra8p0\\localcache\\roaming\\pypoetry\\venv\\lib\\site-packages (from tqdm>4->openai) (0.4.6)\n",
      "Collecting python-dotenv\n",
      "  Using cached python_dotenv-1.1.0-py3-none-any.whl.metadata (24 kB)\n",
      "Using cached python_dotenv-1.1.0-py3-none-any.whl (20 kB)\n",
      "Installing collected packages: python-dotenv\n",
      "Successfully installed python-dotenv-1.1.0\n"
     ]
    }
   ],
   "source": [
    "!pip install openai\n",
    "!pip install python-dotenv\n"
   ]
  },
  {
   "cell_type": "code",
   "execution_count": 14,
   "id": "ec86b474",
   "metadata": {},
   "outputs": [
    {
     "name": "stdout",
     "output_type": "stream",
     "text": [
      "Transcript length: 22375 characters\n",
      "Duration: 20.0 minutes\n"
     ]
    }
   ],
   "source": [
    "from dotenv import load_dotenv\n",
    "import openai\n",
    "import os\n",
    "import json\n",
    "from pathlib import Path\n",
    "\n",
    "# Load environment variables\n",
    "load_dotenv()\n",
    "\n",
    "# Load your test chunk\n",
    "chunk_file = \"../data/combined_transcripts_20min/chunk_02_simple.json\"\n",
    "with open(chunk_file, 'r') as f:\n",
    "    chunk_data = json.load(f)\n",
    "\n",
    "transcript = chunk_data['combined_transcript']\n",
    "print(f\"Transcript length: {len(transcript)} characters\")\n",
    "print(f\"Duration: {chunk_data['total_duration_minutes']:.1f} minutes\")"
   ]
  },
  {
   "cell_type": "code",
   "execution_count": 15,
   "id": "c168a467",
   "metadata": {},
   "outputs": [
    {
     "name": "stdout",
     "output_type": "stream",
     "text": [
      "\\n\\n=== File 1: Critical Role plays Daggerheart ï½œ Live One-Shot ï½œ Open Beta_chunk_4_300_seconds (t=0.0s) ===\\n[0.2s - 2.6s] Expect a lot of rad stuff to come in the future.\\n[3.6s - 4.5s] We're super excited.\\n[4.7s - 13.9s] So we're celebrating today by taking Daggerheart for spin tonight with the official open beta playtest materials available now on daggerheart.com.\\n[14.4s - 15.4s] You can download the PDF.\\n[15.6s - 16.7s] You can play at home with your group.\\n[16.9s - 18.2s] You can craft characters solo.\\n[18.4s - 23.4s] You can even play virtually with the Dagger Heart Nexus on Denny Plane and just make a bunch of characters and try them out.\\n[24.3s - 31.8s] However, you decide that you want to play, all of us here are eager to see what you think we can do to make the game better as we move forward on this.\\n[31.9s - 39.8s] So please be sure to fill out the playtest surveys on daggerheart.com so we can incorporate your amazing feedback and make this game as amazing as you possibly can.\\n[40.3s - 41.9s] Mershi, you got some announcements as well.\\n[42.2s - 48.4s] Yeah, just wanted to shout out that we also have a ton of Dagger Heart content that is live right now on our YouTube channel.\\n[48.9s - 53.7s] So if you're more of a visual learner, it's got a lot of really cool card graphics.\\n[53.8s - 54.6s] It's really great.\\n[54.9s - 61.2s] We have a Dagger Heart 101 video with Matt and Spencer explaining the core game mechanics so that you can kind of keep up with us.\\n[61.5s - 67.5s] And then there's also a character building video with Travis and Matt where they create Bertrand Bell in Dagger Heart.\\n[71.5s - 80.2s] We also uploaded our session zero for this one shot that we are about to play right now where we created these delightful characters you're about to see.\\n[80.4s - 89.5s] So if you want a little bit more insight into how the session zeros work, you can go check it out and see how much of how bad shit we all are.\\n[90.0s - 91.4s] The VOD for tonight.\\n[91.9s - 97.0s] The VOD for tonight's one shot will be available immediately after the broadcast.\\n[97.4s - 102.4s] And the podcast version will also be uploaded tomorrow as in March 13th.\\n[103.0s - 103.9s] Because tonight's the 12th.\\n[104.1s - 104.3s] Whoa.\\n[104.6s - 105.3s] Because we're live.\\n[107.1s - 107.4s] We are live.\\n[107.6s - 108.1s] We have to prove it.\\n[108.2s - 108.6s] We have to prove it.\\n[109.0s - 109.2s] I don't know.\\n[109.7s - 110.1s] I need a little bit of a test.\\n[110.2s - 111.6s] Get on the newspaper.\\n[113.5s - 113.8s] Damn it.\\n[114.3s - 116.2s] Here, I'll show you my New York Times app.\\n[119.9s - 120.6s] Regardless.\\n[121.5s - 122.4s] How do we prove it?\\n[122.6s - 123.4s] What happened today?\\n[123.6s - 124.5s] This is today's murder.\\n[124.6s - 125.1s] Oh, that's cool.\\n[125.3s - 125.8s] Let's go live.\\n[125.8s - 126.2s] Live, live.\\n[126.2s - 126.7s] Live, live, live.\\n[126.9s - 127.2s] Bye, baby.\\n[127.8s - 128.0s] Oh, yeah.\\n[129.2s - 129.8s] He looks so handsome.\\n[130.2s - 130.6s] Oh, no.\\n[131.0s - 131.1s] No.\\n[133.5s - 134.1s] Nice try.\\n[135.0s - 136.5s] So, yeah, excited to do this.\\n[137.0s - 139.5s] You know, this is still a newish rule set for us as well.\\n[139.6s - 141.6s] We played a number of games and things have changed many times.\\n[141.8s - 145.6s] So if we ever get loosened goosey with it, just know that we're also testing it alongside you.\\n[146.2s - 149.6s] But nonetheless, I believe that concludes our announcements.\\n[149.8s - 156.1s] So let's go ahead and jump into tonight's episode of Critical Role, Please Dagger Ho.\\n[161.1s - 163.2s] We don't have the opening titles, so now we just go into the outside.\\n[166.2s - 166.8s] Perfect.\\n[168.6s - 175.0s] So, welcome, one and all, to the realm of Loch Spire.\\n[175.6s - 190.1s] A rolling collection of winding land masses that tumble from the mountains of creation into the surrounding seas that coil between the broken expanse of grassy hills, rocky crags, and mysterious overgrowth from the length of the Builder's Bridge to the distant ruins of Nyx.\\n[191.0s - 201.7s] Here beneath the hollows above, mortals mingle with the great many relics and ruins of ages long past, now left to crumble beneath ambition and progress.\\n[202.0s - 213.8s] Here, the echoes of traumatic wars linger in unhealing scars that stretch the land, while remnants of vibrant and magical beings dance between the sunbeams and ancient places of thrumming power.\\n[214.7s - 221.0s] Here, the common folk seek revelry and purpose in a world that churns in a constant state of change.\\n[221.4s - 224.3s] Fortune and glory ever call to many.\\n[225.0s - 233.0s] And life in Loch Spire is rarely dull for those with an eye for opportunity and an eagerness to walk beyond what is comfortable.\\n[233.7s - 246.2s] Even so, older and crueler wills lurk within the depth of every shadow and in the twisted heart of every city, even within the most sacred of natural places.\\n[246.9s - 249.9s] And it is here where our story begins.\\n[250.2s - 264.7s] In the late afternoon of a late summer day, within a moss-dappled cabin nestled within the outskirts of the divine Timberland known as the Emerald Sky, home to the will of Andra, goddess of the wild and wooded places.\\n[265.7s - 280.4s] Here among the ever-climbing perimeter trees, within the home of the retired war hero Everett Cole, a troop of journeyman adventurers, bonded through circumstance, finish their last meal before trekking into the ominous deep of the Emerald Sky.\\n[280.7s - 296.1s] As we come in into the late afternoon, kind of golds and greens of the forest, past the kind of moss and dust-covered exterior window, we see the warmly lit interior of the humble cabin, the flames crackling in the nearby fireplace.\\n[296.6s - 298.4s] We shift over to.\\n\\n\\n=== File 2: Critical Role plays Daggerheart ï½œ Live One-Shot ï½œ Open Beta_chunk_5_300_seconds (t=298.4s) ===\\n[298.6s - 302.7s] Sir Dante, if you wouldn't mind describing me what you look like and what you are doing within the cabin.\\n[303.0s - 303.9s] Oh, my God.\\n[304.4s - 304.8s] You're real good.\\n[305.2s - 305.4s] Oh my God.\\n[307.0s - 307.5s] Not bad.\\n[308.8s - 313.8s] Well, I am a approximately 5'10 turtle.\\n[315.2s - 319.2s] Wearing a Corsair's hat in brown leather with a lovely feather on top.\\n[319.8s - 326.6s] A blue and white striped tunic and a half cape of royal gold, gold and royal blue.\\n[327.1s - 331.7s] Leather gloves, leather boots, although the toes cut out because turtle.\\n[332.7s - 333.4s] I mean, of course.\\n[333.7s - 339.1s] I have a very fancy rapier and a chained weapon of some kind with a claw on it.\\n[339.3s - 342.1s] And at the moment, I am attempting to...\\n[342.5s - 347.8s] Oh, I also have a scar on my face, just a little one of those, just something for some character.\\n[348.5s - 355.6s] And I'm at the moment using my hat to fan the fire to just see if we can get it a bit warmer in here.\\n[356.2s - 360.2s] As the smoke kind of billows out from your hat movement, it kind of fills that space a bit.\\n[360.2s - 364.3s] And you hear the sound of the coffee of Everett Cole.\\n[364.4s - 378.5s] You see the older human in his 60s, kind of a shaggy skullet on weathered skin, deeply kind eyes that are almost hidden within a wrinkled brow that has now kind of overtaken most of the front face, but a warm smile as he turns to you, Coughing.\\n[380.3s - 383.5s] Hell, I appreciate your help there, sure, turtle.\\n[384.0s - 385.2s] The fire's broken.\\n[385.8s - 386.1s] Which.\\n[386.7s - 387.4s] It'll be fine.\\n[388.2s - 390.6s] Let me handle the rest of the tea.\\n[390.7s - 392.0s] You all just relax a minute.\\n[392.2s - 392.6s] Now what?\\n[393.7s - 395.4s] I'm just curious about you all.\\n[398.0s - 399.4s] You there, big fella.\\n[399.6s - 405.8s] I'm sorry, the accommodations are quite to your scale as we shift over to see Pango.\\n[406.1s - 406.3s] Hello.\\n[406.7s - 407.0s] Hi.\\n[407.1s - 408.5s] Yes, I'm Pango.\\n[409.5s - 411.0s] I am very tall.\\n[411.3s - 413.0s] I don't really know heights too well.\\n[413.3s - 415.0s] It's either seven or eight feet.\\n[415.8s - 419.0s] My feet are bigger than yours, so I don't know how that factors in.\\n[420.3s - 426.8s] But I'm big, and I kind of squint when I'm outside a lot because I'm not used to being outside.\\n[427.1s - 429.0s] I grew up underground.\\n[430.0s - 435.9s] And now I'm out and traveling with my friends and having a grand old time.\\n[436.3s - 455.7s] You might also notice that most of my purplish skin is covered up with some armor, but which is also tastefully covered up with some very green and very fancy duds that my friends Sweet Pea and Oppie stole for me in the next last town over.\\n[456.0s - 457.7s] I'm looking pretty fresh.\\n[458.1s - 459.2s] They say I look fresh.\\n[459.3s - 461.1s] I don't know what that means, but it's...\\n[462.2s - 469.0s] And right now I'm just sort of staring over Zarlo's plate, just wondering if he's going to finish all of it, because it looks...\\n[469.8s - 470.4s] I need more.\\n[470.7s - 471.9s] How about it, you dry shite?\\n[472.1s - 473.0s] Are you hungry, Stan?\\n[473.7s - 474.2s] Oh, my God.\\n[474.6s - 477.8s] I mean, I don't want to impose, but like, I could, yeah, I could, I could eat.\\n[478.2s - 479.3s] I can make plenty of biscuits.\\n[479.5s - 480.0s] That's what you need.\\n[480.5s - 480.9s] He is big.\\n[481.1s - 483.6s] If that fecker fell over, he'd be halfway home.\\n[484.2s - 487.8s] Well, happy to get you a bit of food as well, I suppose.\\n[488.2s - 490.0s] Whatever brings all your up.\\n[490.2s - 490.9s] I'm a fecker?\\n[491.0s - 491.8s] Does that mean I feck?\\n[493.6s - 498.6s] What my grandfather always used to say to me is, Zardo, don't say fucker, it's not polite, say fecker instead.\\n[498.9s - 499.7s] Oh, okay.\\n[500.0s - 500.5s] I'll use that.\\n[500.7s - 501.6s] Sort of a cheat.\\n[502.2s - 502.9s] I've learned that.\\n[503.0s - 504.5s] All right, Fecker, writing that down.\\n[504.6s - 508.6s] As he goes and walks over to his bookcase, as you kind of sit back and cross your arms with confidence.\\n[509.3s - 510.3s] What does Zarlo look like?\\n[510.6s - 514.6s] Well, Zarlo is sort of the elder statesman of this group, even though he's not that old.\\n[514.9s - 520.2s] He's been with the larger organization our people have been with, this group has been with for quite some time.\\n[520.6s - 523.8s] And while not a mentor per se, sometimes he has to be a bit of a babysitter.\\n[524.0s - 525.0s] They get into trouble a lot.\\n[525.9s - 527.5s] Zarlo is about four feet tall.\\n[527.6s - 528.3s] He's a simia.\\n[529.4s - 530.5s] Lots of brown fur.\\n[530.9s - 534.8s] He has a very regal twined mustache down the sides of his face.\\n[535.0s - 538.5s] A little bit scruff of a beard, and there's a shock of white in his brown hair.\\n[538.7s - 543.8s] He has an always active tail that is as communicative as his hands tend to be.\\n[544.2s - 551.4s] And he is wearing like Burning Man pants and a pair of sashes going diagonally across his chest holding.\\n[551.7s - 552.6s] Yeah, it looks like that.\\n[553.2s - 555.0s] They're all arrested to bring you.\\n[555.6s - 557.6s] A lot of people have Burning Man pants or no pants.\\n[558.1s - 558.5s] Yeah, yeah, yeah.\\n[559.4s - 559.9s] Donald Douglas.\\n[560.9s - 562.8s] Sometimes it is those pants, but not today.\\n[563.8s - 564.7s] Look at the trees, though.\\n[565.4s - 572.3s] By the way, I am also perching to be in character like a monkey, but I feel like I might fire at any minute.\\n[572.6s - 574.6s] But I'm living on the edge and I'm going to do it anyway.\\n[578.2s - 578.8s] We're in the background.\\n[584.1s - 584.6s] I'm good for now.\\n[587.4s - 592.2s] And his cheeks are a little red right now because he's probably had one or two too many today.\\n[592.6s - 593.0s] Fair enough.\\n[594.3s - 598.2s] Oh, this is certainly quite the mildly.\\n\\n\\n=== File 3: Critical Role plays Daggerheart ï½œ Live One-Shot ï½œ Open Beta_chunk_6_300_seconds (t=598.2s) ===\\n[598.3s - 599.2s] Crew have stumbled in.\\n[599.3s - 601.0s] I don't get many visitors around here.\\n[601.4s - 603.0s] I'm happy to gauge y'all.\\n[603.1s - 610.2s] You said you came out from Ford Overmarch, right about 15, 20 miles south of here.\\n[611.2s - 614.8s] Pray tell what brings you this side of the Emerald Sky.\\n[615.8s - 623.0s] He glances over towards the regal-looking beetle figure who's been stoically standing, staring into the flames.\\n[633.2s - 634.7s] Slap on the rush of the dark.\\n[635.0s - 636.0s] So regal.\\n[636.3s - 637.0s] Oh my god.\\n[638.0s - 639.4s] Sorry, the smoke's getting to you too.\\n[639.5s - 640.2s] Here, some more tea.\\n[641.3s - 646.4s] And he comes up and hands you a hefty mug of hot, steaming tea.\\n[648.2s - 652.1s] Kexen is standing there holding on to his staff.\\n[652.6s - 663.8s] He has a hard shell that's got blues and purples in it, kind of shiny with lighter, bluish-green eyes and large mandibles pointing out from his face, very much like a stag beetle.\\n[664.3s - 670.6s] He has some kick-ass, like armored pauldrons with points just for flaring, maybe a little bit of protection.\\n[670.7s - 678.5s] And he has larger shells that are hiding translucent, like light blue wings underneath his back shell.\\n[679.4s - 681.5s] Yeah, and he's just one sexy bug.\\n[681.8s - 682.2s] Sure is.\\n[683.0s - 688.7s] I'm just kind of moving like a little trace of arcane energy in between my fingers.\\n[689.2s - 695.6s] And I'll say, we've been sent out by our larger group, the Grim Wardens.\\n[696.9s - 699.8s] We're here to clean up any mess that we are tasked with.\\n[700.3s - 703.5s] It's important to us to make a name for ourselves.\\n[704.2s - 707.4s] Well, you're all part of the Grim Wardens, and that's a.\\n[708.0s - 709.8s] Don't normally work this far.\\n[710.2s - 715.8s] This is far to the western side of the continent, so must be important business, I imagine.\\n[716.0s - 718.2s] We're like a frontier group.\\n[719.2s - 720.9s] We're called the menagerie, right?\\n[721.0s - 722.1s] Is that what we settled on?\\n[722.2s - 722.6s] Yeah, yeah.\\n[722.9s - 723.5s] Okay, okay.\\n[724.4s - 725.3s] Menagerie.\\n[725.4s - 726.3s] All right, all right.\\n[726.5s - 731.4s] Well, um, I'm happy to stay as long as you like, um, beyond your way.\\n[732.2s - 737.0s] And you friends as well, I may not have enough to feed all of you, but you know what I can do.\\n[737.2s - 737.8s] Oh, feed anything.\\n[738.4s - 738.8s] It's okay.\\n[739.0s - 741.4s] Yeah, way pretty light.\\n[742.3s - 744.8s] I think the majority of it went to your big friend over here.\\n[745.8s - 746.2s] I'm sorry.\\n[746.8s - 747.4s] Don't be sorry.\\n[749.2s - 751.2s] I could try to barf it up if you want some.\\n[751.5s - 752.0s] I don't know.\\n[752.2s - 752.7s] I don't know.\\n[753.1s - 753.8s] Who's there?\\n[754.5s - 754.8s] Okay.\\n[755.1s - 755.9s] I'll work on it.\\n[756.2s - 756.6s] Yeah, all right.\\n[757.2s - 757.7s] In the back.\\n[757.8s - 758.2s] In the back.\\n[759.2s - 759.8s] In the back.\\n[760.8s - 762.7s] Oh, um, I'm gonna look for a bucket.\\n[763.6s - 769.7s] As the two begin to scramble looking for a bucket, can you describe what we see running around?\\n[770.3s - 780.3s] You see one girl who is short, but she looks like very tall compared to her friend here.\\n[782.2s - 784.8s] Very slender with a giant cap.\\n[785.3s - 786.5s] She is a fungrel.\\n[787.6s - 791.2s] Very like pale, almost sea green color.\\n[792.2s - 794.6s] And her clothes are very flowy.\\n[794.7s - 797.0s] She wears like a big oversized cardigan.\\n[797.2s - 803.8s] And resting against the wall is her long, I think it's a long staff with a couple hooks on it.\\n[806.7s - 810.8s] And she just looks very free and floaty.\\n[811.4s - 812.4s] How short or tall is she?\\n[813.0s - 814.2s] About four foot.\\n[814.6s - 815.9s] So I'm right around your size.\\n[817.4s - 818.9s] We got about four foot, about four foot about.\\n[819.8s - 821.4s] I'm not sure yet.\\n[824.8s - 825.3s] All right.\\n[826.5s - 827.4s] About five feet.\\n[829.1s - 829.6s] Five eight by ten.\\n[830.5s - 831.0s] Eight feet.\\n[831.3s - 831.4s] Yeah.\\n[833.5s - 834.5s] I guess I could be a little taller.\\n[834.7s - 835.8s] No, be your height.\\n[836.0s - 836.7s] I'm kind of loving this.\\n[837.1s - 839.4s] This is the anti-silhouette test for animation.\\n[840.3s - 841.9s] Everyone's chilling about the set.\\n[843.4s - 845.9s] Every group photo, Tango's just out of the photo.\\n[847.4s - 849.4s] It's the character from Police Squad.\\n[852.2s - 853.7s] You're like Gandalf with all the hummocks.\\n[853.8s - 854.2s] That's true, yeah.\\n[855.0s - 860.9s] And as you're scrambling for a bucket to help Django with his sudden needs of ango, my bad.\\n[861.0s - 861.3s] Tango.\\n[861.4s - 861.7s] Django.\\n[861.8s - 862.2s] Django was.\\n[862.4s - 862.9s] Big was your brother.\\n[863.1s - 863.3s] My brother.\\n[863.9s - 864.5s] That was Wango.\\n[864.8s - 865.0s] Wango.\\n[865.4s - 866.1s] Django is my father.\\n[866.4s - 867.0s] Got it.\\n[870.7s - 872.9s] Mango is just a food that we like to eat.\\n[877.8s - 878.8s] Thank you, Peggy.\\n[879.7s - 885.1s] As you already remember the bucket, you're excitedly preparing for whatever meal you might have registered yourself.\\n[885.6s - 886.4s] What are you doing on there?\\n[886.6s - 888.6s] Oh, I'm looking around, too.\\n[888.6s - 890.4s] I'm trying to help find a bucket.\\n[891.6s - 894.7s] So I'm just a little ribbon.\\n[895.8s - 898.0s] Just sort of sapphire blue skin with.\\n\\n\\n=== File 4: Critical Role plays Daggerheart ï½œ Live One-Shot ï½œ Open Beta_chunk_7_300_seconds (t=898.0s) ===\\n[898.6s - 929.5s] With a smattering of yellow freckles everywhere and huge yellow eyes and my cloak is made out of leaves and a little hat made out of leaves as well and my staff which I found at the bottom of a river and it's so sparkly and it was so shiny and I just had to get it and it constantly a billow smoke What I don't know is it's a cigarillo.\\n[931.8s - 933.4s] But it's magical to me.\\n[935.1s - 970.2s] I have little little little overalls and they're striped and you know little tops of the overall that he calls his little popenders and little shoes that kind of that I shove my feet into so I look real nice and smart and my name's Oppy Thank you Oppie appreciate you both helping out sweet pea pleasure to make your acquaintance as well sweet pea sweet Pi and Appe.\\n[970.9s - 971.5s] That's a pair.\\n[972.0s - 972.7s] Pleasure to meet you.\\n[973.0s - 976.0s] Yo, razor's not again even though he's here for me.\\n[976.2s - 980.1s] Do you have a prospective leader of your troop with a menagerie?\\n[980.6s - 985.4s] You seem to be rather presentary individual.\\n[985.7s - 987.0s] Oh goodness.\\n[990.0s - 992.1s] He's not always this chili in the west.\\n[992.7s - 1001.3s] And I go over to Sir Dante and I take out my bladed fan and I just start helping him fan the flames just a little bit.\\n[1001.9s - 1007.2s] And what you see is like a stacked, caked up fawn.\\n[1007.5s - 1007.9s] Let's go.\\n[1009.3s - 1010.4s] She is curvy.\\n[1010.8s - 1015.4s] She has kind of like a light dusty rose fur tint to her.\\n[1015.7s - 1019.9s] And even though she is a fawn, she has bunny ears almost like a jackalope.\\n[1020.6s - 1032.6s] And she has really like strappy leather armor and a little like cropped leather jacket that barely covers anything, but she goes as she covers up.\\n[1033.3s - 1035.2s] Are you cold, Miss Bunny?\\n[1035.4s - 1036.2s] I can give you my scarf.\\n[1036.8s - 1037.8s] It's a little chilly.\\n[1038.1s - 1040.6s] Oh, I wouldn't want to take anything from you.\\n[1041.4s - 1042.7s] You're so dainty.\\n[1043.9s - 1049.4s] She's got like a lot of like a kind of a garter that she has a little dagger built into.\\n[1049.8s - 1064.2s] And then you see on her fan, it's like serrated and has sharp edges for it that she uses as a weapon, as well as has a little whip that she has wrapped around and fastened to her belt.\\n[1064.5s - 1065.5s] Here, Dante.\\n[1066.1s - 1066.6s] Thank you, Dan.\\n[1066.7s - 1067.0s] Thank you.\\n[1067.2s - 1067.5s] Here we go.\\n[1068.4s - 1069.0s] Let's go.\\n[1069.9s - 1071.4s] I'm Bunny, by the way.\\n[1071.6s - 1072.0s] Bunny.\\n[1072.1s - 1072.2s] Yeah.\\n[1072.6s - 1073.8s] Pleasure to meet you, Bunny.\\n[1075.4s - 1084.6s] Well, menagerie, you're here in some relatively dangerous realms beyond.\\n[1084.8s - 1088.6s] I don't know how familiar you're all with the Emerald Sky here, but the.\\n[1089.5s - 1090.3s] A little familiar.\\n[1090.6s - 1090.8s] Oh.\\n[1091.1s - 1093.4s] I started the outskirts of the woods here.\\n[1093.8s - 1095.4s] All right, so you're quite familiar.\\n[1095.6s - 1104.2s] It is a very land suffused with the natural magics of the realm.\\n[1104.6s - 1115.3s] Here, Andra, herself, her will exists towards the center lock that holds the life force and energy of the massive forest.\\n[1116.6s - 1118.4s] So you're of Andrus folk.\\n[1119.0s - 1122.3s] Well, then, perhaps not much of this will be a surprise to you then.\\n[1122.5s - 1128.1s] But just know that natural magics of the world can be also rather tricksy.\\n[1128.4s - 1130.5s] There's a reason I didn't build deeper into the forest.\\n[1130.7s - 1131.4s] I like it out here.\\n[1131.6s - 1141.4s] It's close enough to keep it interesting, but also far enough away where I don't get too caught up with the tricksters of the wood.\\n[1142.1s - 1149.8s] Though, um, as some of the grove children came by speaking up a mighty storm, not but a couple days ago.\\n[1150.9s - 1152.3s] Isn't that who we were looking for?\\n[1153.0s - 1154.9s] You ran into the grove children.\\n[1155.8s - 1163.8s] As we do that, we shift into a brief flashback, not but a day before within the city of Fort Overmarsh.\\n[1163.9s - 1172.6s] Here, the once militaristic outpost that in peacetime has kind of taken on a new form as a trading outpost.\\n[1173.4s - 1179.8s] Ways to the south of the Emerald Sky, the bustle of the townsfolk are walking through the space.\\n[1180.3s - 1185.1s] There's two open mines, one that's kind of falling out of use, while one has been discovered is building up.\\n[1185.7s - 1192.2s] You have stumbled into the town and made your relatively unseen or uncared for position in this city.\\n[1192.4s - 1197.4s] What are you all doing here in Fort Overmarsh at the moment in this flashback?\\n\n"
     ]
    }
   ],
   "source": [
    "print(transcript)"
   ]
  },
  {
   "cell_type": "code",
   "execution_count": 16,
   "id": "56016b26",
   "metadata": {},
   "outputs": [],
   "source": [
    "# Version 1: Basic prompt\n",
    "prompt_v1 = f\"\"\"\n",
    "Summarize this D&D actual play transcript in 300-500 words. Focus on:\n",
    "- Main story events and plot progression\n",
    "- Key character actions and roleplay moments  \n",
    "- Combat encounters and important dice rolls\n",
    "- Setup for future sessions\n",
    "\n",
    "Transcript:\n",
    "{transcript}\n",
    "\"\"\"\n",
    "\n",
    "# Version 2: Critical Role specific\n",
    "prompt_v2 = f\"\"\"\n",
    "You are summarizing a Critical Role D&D session transcript. Create a engaging summary (300-500 words) that captures:\n",
    "\n",
    "STORY: What major plot points advanced? What did the party discover or accomplish?\n",
    "CHARACTERS: What did each party member do? Any great roleplay or character development?\n",
    "GAMEPLAY: Combat encounters, critical rolls, creative problem solving, spells used\n",
    "SETUP: How does this set up future story threads?\n",
    "\n",
    "Write in an engaging style that would help someone catch up on what they missed.\n",
    "\n",
    "Transcript:\n",
    "{transcript}\n",
    "\"\"\""
   ]
  },
  {
   "cell_type": "code",
   "execution_count": 17,
   "id": "ea90b504",
   "metadata": {},
   "outputs": [
    {
     "name": "stdout",
     "output_type": "stream",
     "text": [
      "=== PROMPT V1 RESULT ===\n",
      "In this one-shot session of Critical Role's Daggerheart, the adventure unfolds in the mystical realm of Loch Spire. The narrative begins in the late summer, where a group of adventurers, bonded by circumstance, gathers in a moss-dappled cabin on the outskirts of the Emerald Sky, a divine Timberland. The adventurers are hosted by Everett Cole, a retired war hero, who provides them with a last meal before they embark on their journey into the forest. The session sets the stage for a blend of roleplay and storytelling, with the characters introducing themselves and their backstories.\n",
      "\n",
      "The characters include Sir Dante, a dashing turtle with a scarred face and a penchant for fanning the fire with his hat. Pango, a towering figure unused to the outdoors, provides comic relief with his large appetite and misunderstanding of human expressions. Zarlo, a simia with a regal mustache, acts as the elder statesman, keeping the group in line despite their frequent misadventures. Kexen, a beetle-like figure with arcane abilities, represents the group's connection to magic and the mystical elements of the realm.\n",
      "\n",
      "Other notable characters include Sweet Pea, a fungrel known for her free and floaty demeanor, and Oppy, a sapphire-skinned creature with a love for shiny objects. Bunny, a fawn with a fiery personality, rounds out the group with her strappy leather armor and sharp-edged fan, showcasing the diverse backgrounds and skill sets in the party.\n",
      "\n",
      "The adventurers, known as the Menagerie, have been sent by their larger group, the Grim Wardens, to the Emerald Sky on a mission to clean up any messes. The session features a mix of humorous interactions and character-building moments as the group prepares for their journey. They discuss their purpose, share food, and engage in playful banter, establishing the dynamics and relationships within the party.\n",
      "\n",
      "The session also includes a flashback to Fort Overmarsh, a once-militaristic outpost now serving as a trading hub. This flashback hints at the group's prior encounter with the Grove Children, adding an element of intrigue and setting up potential plot developments for future sessions. The narrative suggests that the Grove Children might play a significant role in the group's mission, possibly as allies or antagonists.\n",
      "\n",
      "As the session concludes, the adventurers prepare to venture deeper into the Emerald Sky, a land suffused with natural magics and the will of Andra, the goddess of the wild. The setup promises a blend of exploration, magic, and potential conflict, setting the stage for future adventures in the realm of Loch Spire. The session leaves the audience eager to see how the Menagerie will navigate the challenges and mysteries of the Emerald Sky.\n",
      "\n",
      "Word count: 437\n",
      "\n",
      "==================================================\n",
      "\n",
      "=== PROMPT V2 RESULT ===\n",
      "In the latest Daggerheart one-shot from Critical Role, the adventuring party, known as the Menagerie, embarks on a journey into the mystical realm of Loch Spire. This session kicks off within the cozy confines of a moss-dappled cabin on the outskirts of the divine Timberland called the Emerald Sky. Here, the retired war hero Everett Cole hosts the eclectic group of adventurers as they prepare to delve into the forest's depths. The narrative introduces us to the vibrant and diverse characters that make up the Menagerie, each bringing unique talents and quirks to the table.\n",
      "\n",
      "Sir Dante, a dashing turtle clad in a Corsair's hat and a regal ensemble, begins the session by fanning the fire with his hat, setting the tone for the party's interactions with Everett Cole. Pango, a towering figure who grew up underground, provides comic relief with his earnest confusion over his size and appetite, while Zarlo, a simian elder with a regal mustache, offers a touch of wisdom and humor. The beetle-like Kexen, with his arcane prowess, introduces the party's mission, revealing that they are Grim Wardens tasked with addressing threats in the area.\n",
      "\n",
      "Sweet Pea and Oppy, a charming pair of companions, add to the party's dynamic with their playful rapport and distinctive appearances. Sweet Pea, a fungrel with a giant cap and flowy clothes, and Oppy, with his sapphire blue skin and leaf-made attire, bring a whimsical air to the gathering. Meanwhile, Bunny, a fawn with a striking fan and whip, rounds out the group with her sharp weaponry and striking presence.\n",
      "\n",
      "As the Menagerie shares stories and laughter with Everett Cole, they learn of the natural magics that suffuse the Emerald Sky. The forest, under the watchful eye of Andra, the goddess of the wild, is a place of both beauty and danger. Everett warns the party of the tricksters that lurk within, setting the stage for the challenges that lie ahead. The mention of the Grove Children, a mysterious group that recently passed through, hints at potential allies or adversaries in the forest.\n",
      "\n",
      "The session concludes with a flashback to the city of Fort Overmarsh, where the Menagerie first gathered information about their mission. This glimpse into their past suggests that the party's journey is part of a larger narrative, with the potential for further intrigue and adventure as they explore the Emerald Sky.\n",
      "\n",
      "Overall, this Daggerheart session beautifully blends character-driven storytelling with the promise of magical exploration, leaving fans eager to see how the Menagerie will navigate the challenges of Loch Spire and what secrets the Emerald Sky holds.\n",
      "\n",
      "Word count: 429\n"
     ]
    }
   ],
   "source": [
    "# Initialize OpenAI client (will automatically use OPENAI_API_KEY from .env)\n",
    "client = openai.OpenAI()\n",
    "\n",
    "def generate_summary(prompt, model=\"gpt-4o\"):\n",
    "    response = openai.chat.completions.create(\n",
    "        model=model,\n",
    "        messages=[{\"role\": \"user\", \"content\": prompt}],\n",
    "        temperature=0.7,\n",
    "        max_tokens=800\n",
    "    )\n",
    "    return response.choices[0].message.content\n",
    "\n",
    "# Test both prompts\n",
    "summary_v1 = generate_summary(prompt_v1)\n",
    "summary_v2 = generate_summary(prompt_v2)\n",
    "\n",
    "print(\"=== PROMPT V1 RESULT ===\")\n",
    "print(summary_v1)\n",
    "print(f\"\\nWord count: {len(summary_v1.split())}\")\n",
    "\n",
    "print(\"\\n\" + \"=\"*50 + \"\\n\")\n",
    "\n",
    "print(\"=== PROMPT V2 RESULT ===\") \n",
    "print(summary_v2)\n",
    "print(f\"\\nWord count: {len(summary_v2.split())}\")"
   ]
  },
  {
   "cell_type": "code",
   "execution_count": null,
   "id": "b1c2fa76",
   "metadata": {},
   "outputs": [],
   "source": []
  }
 ],
 "metadata": {
  "kernelspec": {
   "display_name": "venv",
   "language": "python",
   "name": "python3"
  },
  "language_info": {
   "codemirror_mode": {
    "name": "ipython",
    "version": 3
   },
   "file_extension": ".py",
   "mimetype": "text/x-python",
   "name": "python",
   "nbconvert_exporter": "python",
   "pygments_lexer": "ipython3",
   "version": "3.11.9"
  }
 },
 "nbformat": 4,
 "nbformat_minor": 5
}
