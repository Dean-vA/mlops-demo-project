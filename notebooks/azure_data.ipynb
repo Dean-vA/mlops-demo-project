{
 "cells": [
  {
   "cell_type": "code",
   "execution_count": 2,
   "id": "d7186301",
   "metadata": {},
   "outputs": [
    {
     "name": "stdout",
     "output_type": "stream",
     "text": [
      "Requirement already satisfied: azureml-core in c:\\users\\deanv\\appdata\\local\\packages\\pythonsoftwarefoundation.python.3.11_qbz5n2kfra8p0\\localcache\\local-packages\\python311\\site-packages (1.58.0.post1)\n",
      "Requirement already satisfied: azureml in c:\\users\\deanv\\appdata\\local\\packages\\pythonsoftwarefoundation.python.3.11_qbz5n2kfra8p0\\localcache\\local-packages\\python311\\site-packages (0.2.7)\n",
      "Requirement already satisfied: pytz in c:\\users\\deanv\\appdata\\local\\packages\\pythonsoftwarefoundation.python.3.11_qbz5n2kfra8p0\\localcache\\local-packages\\python311\\site-packages (from azureml-core) (2024.2)\n",
      "Requirement already satisfied: backports.tempfile in c:\\users\\deanv\\appdata\\local\\packages\\pythonsoftwarefoundation.python.3.11_qbz5n2kfra8p0\\localcache\\local-packages\\python311\\site-packages (from azureml-core) (1.0)\n",
      "Requirement already satisfied: pathspec<1.0.0 in c:\\users\\deanv\\appdata\\local\\packages\\pythonsoftwarefoundation.python.3.11_qbz5n2kfra8p0\\localcache\\local-packages\\python311\\site-packages (from azureml-core) (0.12.1)\n",
      "Requirement already satisfied: requests<3.0.0,>=2.19.1 in c:\\users\\deanv\\appdata\\local\\packages\\pythonsoftwarefoundation.python.3.11_qbz5n2kfra8p0\\localcache\\local-packages\\python311\\site-packages (from requests[socks]<3.0.0,>=2.19.1->azureml-core) (2.32.3)\n",
      "Requirement already satisfied: msal<2.0.0,>=1.15.0 in c:\\users\\deanv\\appdata\\local\\packages\\pythonsoftwarefoundation.python.3.11_qbz5n2kfra8p0\\localcache\\local-packages\\python311\\site-packages (from azureml-core) (1.31.1)\n",
      "Requirement already satisfied: msal-extensions<=2.0.0,>=0.3.0 in c:\\users\\deanv\\appdata\\local\\packages\\pythonsoftwarefoundation.python.3.11_qbz5n2kfra8p0\\localcache\\local-packages\\python311\\site-packages (from azureml-core) (1.2.0)\n",
      "Requirement already satisfied: knack<0.13.0 in c:\\users\\deanv\\appdata\\local\\packages\\pythonsoftwarefoundation.python.3.11_qbz5n2kfra8p0\\localcache\\local-packages\\python311\\site-packages (from azureml-core) (0.12.0)\n",
      "Requirement already satisfied: azure-core<2.0.0 in c:\\users\\deanv\\appdata\\local\\packages\\pythonsoftwarefoundation.python.3.11_qbz5n2kfra8p0\\localcache\\local-packages\\python311\\site-packages (from azureml-core) (1.32.0)\n",
      "Requirement already satisfied: pkginfo in c:\\users\\deanv\\appdata\\local\\packages\\pythonsoftwarefoundation.python.3.11_qbz5n2kfra8p0\\localcache\\local-packages\\python311\\site-packages (from azureml-core) (1.11.2)\n",
      "Requirement already satisfied: argcomplete<4 in c:\\users\\deanv\\appdata\\local\\packages\\pythonsoftwarefoundation.python.3.11_qbz5n2kfra8p0\\localcache\\local-packages\\python311\\site-packages (from azureml-core) (3.5.1)\n",
      "Requirement already satisfied: humanfriendly<11.0,>=4.7 in c:\\users\\deanv\\appdata\\local\\packages\\pythonsoftwarefoundation.python.3.11_qbz5n2kfra8p0\\localcache\\local-packages\\python311\\site-packages (from azureml-core) (10.0)\n",
      "Requirement already satisfied: paramiko<4.0.0,>=2.0.8 in c:\\users\\deanv\\appdata\\local\\packages\\pythonsoftwarefoundation.python.3.11_qbz5n2kfra8p0\\localcache\\local-packages\\python311\\site-packages (from azureml-core) (3.5.0)\n",
      "Requirement already satisfied: azure-mgmt-resource<=24.0.0,>=15.0.0 in c:\\users\\deanv\\appdata\\local\\packages\\pythonsoftwarefoundation.python.3.11_qbz5n2kfra8p0\\localcache\\local-packages\\python311\\site-packages (from azureml-core) (23.2.0)\n",
      "Requirement already satisfied: azure-mgmt-containerregistry<11,>=8.2.0 in c:\\users\\deanv\\appdata\\local\\packages\\pythonsoftwarefoundation.python.3.11_qbz5n2kfra8p0\\localcache\\local-packages\\python311\\site-packages (from azureml-core) (10.3.0)\n",
      "Requirement already satisfied: azure-mgmt-storage<=22.0.0,>=16.0.0 in c:\\users\\deanv\\appdata\\local\\packages\\pythonsoftwarefoundation.python.3.11_qbz5n2kfra8p0\\localcache\\local-packages\\python311\\site-packages (from azureml-core) (21.2.1)\n",
      "Requirement already satisfied: azure-mgmt-keyvault<11.0.0,>=0.40.0 in c:\\users\\deanv\\appdata\\local\\packages\\pythonsoftwarefoundation.python.3.11_qbz5n2kfra8p0\\localcache\\local-packages\\python311\\site-packages (from azureml-core) (10.3.1)\n",
      "Requirement already satisfied: azure-mgmt-authorization<5,>=0.40.0 in c:\\users\\deanv\\appdata\\local\\packages\\pythonsoftwarefoundation.python.3.11_qbz5n2kfra8p0\\localcache\\local-packages\\python311\\site-packages (from azureml-core) (4.0.0)\n",
      "Requirement already satisfied: azure-mgmt-network<=28.0.0 in c:\\users\\deanv\\appdata\\local\\packages\\pythonsoftwarefoundation.python.3.11_qbz5n2kfra8p0\\localcache\\local-packages\\python311\\site-packages (from azureml-core) (28.0.0)\n",
      "Requirement already satisfied: azure-graphrbac<1.0.0,>=0.40.0 in c:\\users\\deanv\\appdata\\local\\packages\\pythonsoftwarefoundation.python.3.11_qbz5n2kfra8p0\\localcache\\local-packages\\python311\\site-packages (from azureml-core) (0.61.2)\n",
      "Requirement already satisfied: azure-common<2.0.0,>=1.1.12 in c:\\users\\deanv\\appdata\\local\\packages\\pythonsoftwarefoundation.python.3.11_qbz5n2kfra8p0\\localcache\\local-packages\\python311\\site-packages (from azureml-core) (1.1.28)\n",
      "Requirement already satisfied: msrest<=0.7.1,>=0.5.1 in c:\\users\\deanv\\appdata\\local\\packages\\pythonsoftwarefoundation.python.3.11_qbz5n2kfra8p0\\localcache\\local-packages\\python311\\site-packages (from azureml-core) (0.7.1)\n",
      "Requirement already satisfied: msrestazure<=0.7,>=0.4.33 in c:\\users\\deanv\\appdata\\local\\packages\\pythonsoftwarefoundation.python.3.11_qbz5n2kfra8p0\\localcache\\local-packages\\python311\\site-packages (from azureml-core) (0.6.4.post1)\n",
      "Requirement already satisfied: urllib3<3.0.0,>1.26.17 in c:\\users\\deanv\\appdata\\local\\packages\\pythonsoftwarefoundation.python.3.11_qbz5n2kfra8p0\\localcache\\local-packages\\python311\\site-packages (from azureml-core) (2.2.3)\n",
      "Requirement already satisfied: packaging<=25.0,>=20.0 in c:\\users\\deanv\\appdata\\local\\packages\\pythonsoftwarefoundation.python.3.11_qbz5n2kfra8p0\\localcache\\local-packages\\python311\\site-packages (from azureml-core) (24.2)\n",
      "Requirement already satisfied: python-dateutil<3.0.0,>=2.7.3 in c:\\users\\deanv\\appdata\\local\\packages\\pythonsoftwarefoundation.python.3.11_qbz5n2kfra8p0\\localcache\\local-packages\\python311\\site-packages (from azureml-core) (2.9.0.post0)\n",
      "Requirement already satisfied: ndg-httpsclient<=0.5.1 in c:\\users\\deanv\\appdata\\local\\packages\\pythonsoftwarefoundation.python.3.11_qbz5n2kfra8p0\\localcache\\local-packages\\python311\\site-packages (from azureml-core) (0.5.1)\n",
      "Requirement already satisfied: SecretStorage<4.0.0 in c:\\users\\deanv\\appdata\\local\\packages\\pythonsoftwarefoundation.python.3.11_qbz5n2kfra8p0\\localcache\\local-packages\\python311\\site-packages (from azureml-core) (3.3.3)\n",
      "Requirement already satisfied: jsonpickle<4.0.0 in c:\\users\\deanv\\appdata\\local\\packages\\pythonsoftwarefoundation.python.3.11_qbz5n2kfra8p0\\localcache\\local-packages\\python311\\site-packages (from azureml-core) (3.4.2)\n",
      "Requirement already satisfied: contextlib2<22.0.0 in c:\\users\\deanv\\appdata\\local\\packages\\pythonsoftwarefoundation.python.3.11_qbz5n2kfra8p0\\localcache\\local-packages\\python311\\site-packages (from azureml-core) (21.6.0)\n",
      "Requirement already satisfied: docker<8.0.0 in c:\\users\\deanv\\appdata\\local\\packages\\pythonsoftwarefoundation.python.3.11_qbz5n2kfra8p0\\localcache\\local-packages\\python311\\site-packages (from azureml-core) (7.1.0)\n",
      "Requirement already satisfied: PyJWT<3.0.0 in c:\\users\\deanv\\appdata\\local\\packages\\pythonsoftwarefoundation.python.3.11_qbz5n2kfra8p0\\localcache\\local-packages\\python311\\site-packages (from azureml-core) (2.10.0)\n",
      "Requirement already satisfied: adal<=1.2.7,>=1.2.0 in c:\\users\\deanv\\appdata\\local\\packages\\pythonsoftwarefoundation.python.3.11_qbz5n2kfra8p0\\localcache\\local-packages\\python311\\site-packages (from azureml-core) (1.2.7)\n",
      "Requirement already satisfied: pyopenssl<25.0.0 in c:\\users\\deanv\\appdata\\local\\packages\\pythonsoftwarefoundation.python.3.11_qbz5n2kfra8p0\\localcache\\local-packages\\python311\\site-packages (from azureml-core) (24.2.1)\n",
      "Requirement already satisfied: jmespath<2.0.0 in c:\\users\\deanv\\appdata\\local\\packages\\pythonsoftwarefoundation.python.3.11_qbz5n2kfra8p0\\localcache\\local-packages\\python311\\site-packages (from azureml-core) (1.0.1)\n",
      "Requirement already satisfied: pandas in c:\\users\\deanv\\appdata\\local\\packages\\pythonsoftwarefoundation.python.3.11_qbz5n2kfra8p0\\localcache\\local-packages\\python311\\site-packages (from azureml) (2.2.3)\n",
      "Requirement already satisfied: cryptography>=1.1.0 in c:\\users\\deanv\\appdata\\local\\packages\\pythonsoftwarefoundation.python.3.11_qbz5n2kfra8p0\\localcache\\local-packages\\python311\\site-packages (from adal<=1.2.7,>=1.2.0->azureml-core) (43.0.3)\n",
      "Requirement already satisfied: six>=1.11.0 in c:\\users\\deanv\\appdata\\local\\packages\\pythonsoftwarefoundation.python.3.11_qbz5n2kfra8p0\\localcache\\local-packages\\python311\\site-packages (from azure-core<2.0.0->azureml-core) (1.16.0)\n",
      "Requirement already satisfied: typing-extensions>=4.6.0 in c:\\users\\deanv\\appdata\\local\\packages\\pythonsoftwarefoundation.python.3.11_qbz5n2kfra8p0\\localcache\\local-packages\\python311\\site-packages (from azure-core<2.0.0->azureml-core) (4.12.2)\n",
      "Requirement already satisfied: isodate<1.0.0,>=0.6.1 in c:\\users\\deanv\\appdata\\local\\packages\\pythonsoftwarefoundation.python.3.11_qbz5n2kfra8p0\\localcache\\local-packages\\python311\\site-packages (from azure-mgmt-authorization<5,>=0.40.0->azureml-core) (0.7.2)\n",
      "Requirement already satisfied: azure-mgmt-core<2.0.0,>=1.3.2 in c:\\users\\deanv\\appdata\\local\\packages\\pythonsoftwarefoundation.python.3.11_qbz5n2kfra8p0\\localcache\\local-packages\\python311\\site-packages (from azure-mgmt-authorization<5,>=0.40.0->azureml-core) (1.5.0)\n",
      "Requirement already satisfied: pywin32>=304 in c:\\users\\deanv\\appdata\\local\\packages\\pythonsoftwarefoundation.python.3.11_qbz5n2kfra8p0\\localcache\\local-packages\\python311\\site-packages (from docker<8.0.0->azureml-core) (308)\n",
      "Requirement already satisfied: pyreadline3 in c:\\users\\deanv\\appdata\\local\\packages\\pythonsoftwarefoundation.python.3.11_qbz5n2kfra8p0\\localcache\\local-packages\\python311\\site-packages (from humanfriendly<11.0,>=4.7->azureml-core) (3.5.4)\n",
      "Requirement already satisfied: pygments in c:\\users\\deanv\\appdata\\local\\packages\\pythonsoftwarefoundation.python.3.11_qbz5n2kfra8p0\\localcache\\local-packages\\python311\\site-packages (from knack<0.13.0->azureml-core) (2.18.0)\n",
      "Requirement already satisfied: pyyaml in c:\\users\\deanv\\appdata\\local\\packages\\pythonsoftwarefoundation.python.3.11_qbz5n2kfra8p0\\localcache\\local-packages\\python311\\site-packages (from knack<0.13.0->azureml-core) (6.0.2)\n",
      "Requirement already satisfied: tabulate in c:\\users\\deanv\\appdata\\local\\packages\\pythonsoftwarefoundation.python.3.11_qbz5n2kfra8p0\\localcache\\local-packages\\python311\\site-packages (from knack<0.13.0->azureml-core) (0.9.0)\n",
      "Requirement already satisfied: portalocker<3,>=1.4 in c:\\users\\deanv\\appdata\\local\\packages\\pythonsoftwarefoundation.python.3.11_qbz5n2kfra8p0\\localcache\\local-packages\\python311\\site-packages (from msal-extensions<=2.0.0,>=0.3.0->azureml-core) (2.10.1)\n",
      "Requirement already satisfied: certifi>=2017.4.17 in c:\\users\\deanv\\appdata\\local\\packages\\pythonsoftwarefoundation.python.3.11_qbz5n2kfra8p0\\localcache\\local-packages\\python311\\site-packages (from msrest<=0.7.1,>=0.5.1->azureml-core) (2024.8.30)\n",
      "Requirement already satisfied: requests-oauthlib>=0.5.0 in c:\\users\\deanv\\appdata\\local\\packages\\pythonsoftwarefoundation.python.3.11_qbz5n2kfra8p0\\localcache\\local-packages\\python311\\site-packages (from msrest<=0.7.1,>=0.5.1->azureml-core) (2.0.0)\n",
      "Requirement already satisfied: pyasn1>=0.1.1 in c:\\users\\deanv\\appdata\\local\\packages\\pythonsoftwarefoundation.python.3.11_qbz5n2kfra8p0\\localcache\\local-packages\\python311\\site-packages (from ndg-httpsclient<=0.5.1->azureml-core) (0.6.1)\n",
      "Requirement already satisfied: bcrypt>=3.2 in c:\\users\\deanv\\appdata\\local\\packages\\pythonsoftwarefoundation.python.3.11_qbz5n2kfra8p0\\localcache\\local-packages\\python311\\site-packages (from paramiko<4.0.0,>=2.0.8->azureml-core) (4.2.1)\n",
      "Requirement already satisfied: pynacl>=1.5 in c:\\users\\deanv\\appdata\\local\\packages\\pythonsoftwarefoundation.python.3.11_qbz5n2kfra8p0\\localcache\\local-packages\\python311\\site-packages (from paramiko<4.0.0,>=2.0.8->azureml-core) (1.5.0)\n",
      "Requirement already satisfied: charset-normalizer<4,>=2 in c:\\users\\deanv\\appdata\\local\\packages\\pythonsoftwarefoundation.python.3.11_qbz5n2kfra8p0\\localcache\\local-packages\\python311\\site-packages (from requests<3.0.0,>=2.19.1->requests[socks]<3.0.0,>=2.19.1->azureml-core) (3.4.0)\n",
      "Requirement already satisfied: idna<4,>=2.5 in c:\\users\\deanv\\appdata\\local\\packages\\pythonsoftwarefoundation.python.3.11_qbz5n2kfra8p0\\localcache\\local-packages\\python311\\site-packages (from requests<3.0.0,>=2.19.1->requests[socks]<3.0.0,>=2.19.1->azureml-core) (3.10)\n",
      "Requirement already satisfied: PySocks!=1.5.7,>=1.5.6 in c:\\users\\deanv\\appdata\\local\\packages\\pythonsoftwarefoundation.python.3.11_qbz5n2kfra8p0\\localcache\\local-packages\\python311\\site-packages (from requests[socks]<3.0.0,>=2.19.1->azureml-core) (1.7.1)\n",
      "Requirement already satisfied: jeepney>=0.6 in c:\\users\\deanv\\appdata\\local\\packages\\pythonsoftwarefoundation.python.3.11_qbz5n2kfra8p0\\localcache\\local-packages\\python311\\site-packages (from SecretStorage<4.0.0->azureml-core) (0.8.0)\n",
      "Requirement already satisfied: backports.weakref in c:\\users\\deanv\\appdata\\local\\packages\\pythonsoftwarefoundation.python.3.11_qbz5n2kfra8p0\\localcache\\local-packages\\python311\\site-packages (from backports.tempfile->azureml-core) (1.0.post1)\n",
      "Requirement already satisfied: numpy>=1.23.2 in c:\\users\\deanv\\appdata\\local\\packages\\pythonsoftwarefoundation.python.3.11_qbz5n2kfra8p0\\localcache\\local-packages\\python311\\site-packages (from pandas->azureml) (1.26.4)\n",
      "Requirement already satisfied: tzdata>=2022.7 in c:\\users\\deanv\\appdata\\local\\packages\\pythonsoftwarefoundation.python.3.11_qbz5n2kfra8p0\\localcache\\local-packages\\python311\\site-packages (from pandas->azureml) (2024.2)\n",
      "Requirement already satisfied: cffi>=1.12 in c:\\users\\deanv\\appdata\\local\\packages\\pythonsoftwarefoundation.python.3.11_qbz5n2kfra8p0\\localcache\\local-packages\\python311\\site-packages (from cryptography>=1.1.0->adal<=1.2.7,>=1.2.0->azureml-core) (1.17.1)\n",
      "Requirement already satisfied: oauthlib>=3.0.0 in c:\\users\\deanv\\appdata\\local\\packages\\pythonsoftwarefoundation.python.3.11_qbz5n2kfra8p0\\localcache\\local-packages\\python311\\site-packages (from requests-oauthlib>=0.5.0->msrest<=0.7.1,>=0.5.1->azureml-core) (3.2.2)\n",
      "Requirement already satisfied: pycparser in c:\\users\\deanv\\appdata\\local\\packages\\pythonsoftwarefoundation.python.3.11_qbz5n2kfra8p0\\localcache\\local-packages\\python311\\site-packages (from cffi>=1.12->cryptography>=1.1.0->adal<=1.2.7,>=1.2.0->azureml-core) (2.22)\n"
     ]
    },
    {
     "name": "stderr",
     "output_type": "stream",
     "text": [
      "\n",
      "[notice] A new release of pip is available: 24.3.1 -> 25.1.1\n",
      "[notice] To update, run: C:\\Users\\deanv\\AppData\\Local\\Microsoft\\WindowsApps\\PythonSoftwareFoundation.Python.3.11_qbz5n2kfra8p0\\python.exe -m pip install --upgrade pip\n"
     ]
    }
   ],
   "source": [
    "!pip install azureml-core azureml"
   ]
  },
  {
   "cell_type": "code",
   "execution_count": 3,
   "id": "17f9319f",
   "metadata": {},
   "outputs": [],
   "source": [
    "from azureml.core import Workspace, Datastore\n",
    "from azureml.core.authentication import InteractiveLoginAuthentication\n",
    "from azureml.core import Dataset\n"
   ]
  },
  {
   "cell_type": "code",
   "execution_count": 4,
   "id": "46c4aa48",
   "metadata": {},
   "outputs": [],
   "source": [
    "subscription_id = \"0a94de80-6d3b-49f2-b3e9-ec5818862801\"\n",
    "resource_group = \"buas-y2\"\n",
    "workspace_name = \"Y2D-Staff-2025\""
   ]
  },
  {
   "cell_type": "code",
   "execution_count": 5,
   "id": "e09ec394",
   "metadata": {},
   "outputs": [
    {
     "name": "stderr",
     "output_type": "stream",
     "text": [
      "The default web browser has been opened at https://login.microsoftonline.com/organizations/oauth2/v2.0/authorize. Please continue the login in the web browser. If no web browser is available or if the web browser fails to open, use device code flow with `az login --use-device-code`.\n"
     ]
    },
    {
     "name": "stdout",
     "output_type": "stream",
     "text": [
      "Performing interactive authentication. Please follow the instructions on the terminal.\n"
     ]
    },
    {
     "name": "stderr",
     "output_type": "stream",
     "text": [
      "Failed to authenticate '{'additional_properties': {}, 'id': '/tenants/8ad04a9f-1a10-4808-9480-b8a2f8a0da14', 'tenant_id': '8ad04a9f-1a10-4808-9480-b8a2f8a0da14', 'tenant_category': 'Home', 'country': None, 'country_code': 'NL', 'display_name': 'SURF', 'domains': ['surf.nl', 'surf.onmicrosoft.com', 'surf.mail.onmicrosoft.com', 'surfsara.com', 'lcrdm.nl', 'versnellingsplan.nl', 'integraalveilig-ho.nl', 'plekkie.nl', 'netherlight.nl', 'netherlight.net', 'surfconext.nl', 'surfaudit.nl', 'surfdashboard.nl', 'surffilesender.nl', 'surfdrive.nl', 'base27.surf.nl', 'surfnet.nl', 'surfsharekit.nl', 'sbcb10169.pstnaccess.cellip.com', 'sbca10169.pstnaccess.cellip.com', 'surfcumulus.nl', 'auteursrechten.nl', 'hbokennisbank.nl', 'openconext.org', 'test.ia.surf.nl', 'ia.surf.nl', 'digitaliseringsimpulsonderwijs.nl', 'sram.surf.nl', 'publinova.nl', 'surfdiensten.nl', 'surfspot.nl', 'surfmarket.nl', 'dcc-po.nl', 'npuls.nl', 'eduid.nl', 'edusources.nl', 'tdcc.nl', 'dnssecplatform.nl', 'honeyspider.net', 'honeyspider.org', 'tiqr.org', 'edubadges.nl', 'scirt.nl', 'eduvpn.nl', 'mysurf.nl', 'letsconnect-vpn.org', 'cybersaveyourself.nl', 'openonderwijsapi.nl', 'scipr.nl', 'surf.net', 'pdu.surf.net', 'ups.surf.net', 'dl.surfnet.nl', 'scz.lab.surf.nl', 'eurocc-netherlands.nl', 'workfloworchestrator.org', 'eduxs.eu'], 'tenant_id_name': \"8ad04a9f-1a10-4808-9480-b8a2f8a0da14 'SURF'\"}' due to error 'AuthenticationError:\n",
      "\tMessage: AADSTS500571: The guest user account is disabled. Trace ID: ce046f25-bb07-40b3-81bf-1736c9f52d00 Correlation ID: ffde34aa-bac6-45fe-92a6-79fa8f8707ef Timestamp: 2025-06-01 13:45:11Z\n",
      "\tInnerException None\n",
      "\tErrorResponse \n",
      "{\n",
      "    \"error\": {\n",
      "        \"message\": \"AADSTS500571: The guest user account is disabled. Trace ID: ce046f25-bb07-40b3-81bf-1736c9f52d00 Correlation ID: ffde34aa-bac6-45fe-92a6-79fa8f8707ef Timestamp: 2025-06-01 13:45:11Z\"\n",
      "    }\n",
      "}'\n"
     ]
    },
    {
     "name": "stdout",
     "output_type": "stream",
     "text": [
      "Interactive authentication successfully completed.\n"
     ]
    }
   ],
   "source": [
    "auth = InteractiveLoginAuthentication()\n",
    "workspace = Workspace(subscription_id=subscription_id,\n",
    "                   resource_group=resource_group,\n",
    "                   workspace_name=workspace_name,\n",
    "                   auth=auth,\n",
    "                   )"
   ]
  },
  {
   "cell_type": "code",
   "execution_count": 6,
   "id": "2c41f8aa",
   "metadata": {},
   "outputs": [
    {
     "name": "stdout",
     "output_type": "stream",
     "text": [
      "workspaceblobstore AzureBlob\n",
      "workspaceartifactstore AzureBlob\n",
      "workspaceworkingdirectory AzureFile\n"
     ]
    }
   ],
   "source": [
    "# list all datastores registered in the current workspace\n",
    "datastores = workspace.datastores\n",
    "for name, datastore in datastores.items():\n",
    "    print(name, datastore.datastore_type)"
   ]
  },
  {
   "cell_type": "code",
   "execution_count": null,
   "id": "81184531",
   "metadata": {},
   "outputs": [
    {
     "name": "stdout",
     "output_type": "stream",
     "text": [
      "<generator object walk_directory at 0x0000023541B71E40>\n"
     ]
    }
   ],
   "source": []
  },
  {
   "cell_type": "code",
   "execution_count": 12,
   "id": "e67a3625",
   "metadata": {},
   "outputs": [
    {
     "name": "stdout",
     "output_type": "stream",
     "text": [
      "Uploading an estimated of 5 files\n",
      "Uploading ../data/audio_chunks_sample\\A Show of Scrutiny ｜ Critical Role： THE MIGHTY NEIN ｜ Episode 2_chunk_4_300_seconds.wav\n",
      "Uploaded ../data/audio_chunks_sample\\A Show of Scrutiny ｜ Critical Role： THE MIGHTY NEIN ｜ Episode 2_chunk_4_300_seconds.wav, 1 files out of an estimated total of 5\n",
      "Uploading ../data/audio_chunks_sample\\A Show of Scrutiny ｜ Critical Role： THE MIGHTY NEIN ｜ Episode 2_chunk_0_300_seconds.wav\n",
      "Uploaded ../data/audio_chunks_sample\\A Show of Scrutiny ｜ Critical Role： THE MIGHTY NEIN ｜ Episode 2_chunk_0_300_seconds.wav, 2 files out of an estimated total of 5\n",
      "Uploading ../data/audio_chunks_sample\\A Show of Scrutiny ｜ Critical Role： THE MIGHTY NEIN ｜ Episode 2_chunk_1_300_seconds.wav\n",
      "Uploaded ../data/audio_chunks_sample\\A Show of Scrutiny ｜ Critical Role： THE MIGHTY NEIN ｜ Episode 2_chunk_1_300_seconds.wav, 3 files out of an estimated total of 5\n",
      "Uploading ../data/audio_chunks_sample\\A Show of Scrutiny ｜ Critical Role： THE MIGHTY NEIN ｜ Episode 2_chunk_3_300_seconds.wav\n",
      "Uploaded ../data/audio_chunks_sample\\A Show of Scrutiny ｜ Critical Role： THE MIGHTY NEIN ｜ Episode 2_chunk_3_300_seconds.wav, 4 files out of an estimated total of 5\n",
      "Uploading ../data/audio_chunks_sample\\A Show of Scrutiny ｜ Critical Role： THE MIGHTY NEIN ｜ Episode 2_chunk_2_300_seconds.wav\n",
      "Uploaded ../data/audio_chunks_sample\\A Show of Scrutiny ｜ Critical Role： THE MIGHTY NEIN ｜ Episode 2_chunk_2_300_seconds.wav, 5 files out of an estimated total of 5\n",
      "Uploaded 5 files\n"
     ]
    },
    {
     "data": {
      "text/plain": [
       "$AZUREML_DATAREFERENCE_ab0a71a27271487e8d0221453b2b5da4"
      ]
     },
     "execution_count": 12,
     "metadata": {},
     "output_type": "execute_result"
    }
   ],
   "source": [
    "# Create a datastore object from the existing datastore named \"workspaceblobstore\".\n",
    "datastore = Datastore(workspace, name='workspaceblobstore')\n",
    "\n",
    "# Upload the data to the path target_path in datastore\n",
    "datastore.upload(src_dir='../data/audio_chunks_sample', target_path='audio_sample', overwrite=True, show_progress=True)"
   ]
  },
  {
   "cell_type": "markdown",
   "id": "4b4b135c",
   "metadata": {},
   "source": [
    "# This is nice with SDKV1 but doesnt play nice with NEMO. The SDK2 way is way too complicated"
   ]
  },
  {
   "cell_type": "code",
   "execution_count": 16,
   "id": "b32b2a93",
   "metadata": {},
   "outputs": [
    {
     "name": "stderr",
     "output_type": "stream",
     "text": [
      "2025-05-25 13:51:19.189271 | ActivityCompleted: Activity=from_files, HowEnded=Failure, Duration=0.0 [ms], Info = {'activity_id': 'e1620620-bfd9-456b-b432-80bdc0dd4daa', 'activity_name': 'from_files', 'activity_type': 'PublicApi', 'app_name': 'FileDataset', 'source': 'azureml.dataset', 'version': '1.60.0', 'dataprepVersion': '', 'sparkVersion': '', 'subscription': '', 'run_id': '', 'resource_group': '', 'workspace_name': '', 'experiment_id': '', 'location': ''}, Exception=ImportError; Missing required package \"azureml-dataset-runtime\", which can be installed by running: \"c:\\Users\\deanv\\Dropbox\\0_Buas\\2024-2025\\Y2D\\Demo Project\\mlops-demo-project\\backend-microservice\\.venv\\Scripts\\python.exe\" -m pip install azureml-dataset-runtime --upgrade\n"
     ]
    },
    {
     "ename": "ImportError",
     "evalue": "Missing required package \"azureml-dataset-runtime\", which can be installed by running: \"c:\\Users\\deanv\\Dropbox\\0_Buas\\2024-2025\\Y2D\\Demo Project\\mlops-demo-project\\backend-microservice\\.venv\\Scripts\\python.exe\" -m pip install azureml-dataset-runtime --upgrade",
     "output_type": "error",
     "traceback": [
      "\u001b[31m---------------------------------------------------------------------------\u001b[39m",
      "\u001b[31mImportError\u001b[39m                               Traceback (most recent call last)",
      "\u001b[36mCell\u001b[39m\u001b[36m \u001b[39m\u001b[32mIn[16]\u001b[39m\u001b[32m, line 3\u001b[39m\n\u001b[32m      1\u001b[39m \u001b[38;5;66;03m# Create a FileDataset from a path to a directory.\u001b[39;00m\n\u001b[32m      2\u001b[39m \u001b[38;5;66;03m# The directory contains a folder per class, each of which contains image files.\u001b[39;00m\n\u001b[32m----> \u001b[39m\u001b[32m3\u001b[39m sample_set = \u001b[43mDataset\u001b[49m\u001b[43m.\u001b[49m\u001b[43mFile\u001b[49m\u001b[43m.\u001b[49m\u001b[43mfrom_files\u001b[49m\u001b[43m(\u001b[49m\u001b[43mpath\u001b[49m\u001b[43m=\u001b[49m\u001b[43m(\u001b[49m\u001b[43mdatastore\u001b[49m\u001b[43m,\u001b[49m\u001b[43m \u001b[49m\u001b[33;43m'\u001b[39;49m\u001b[33;43mtranscripts\u001b[39;49m\u001b[33;43m'\u001b[39;49m\u001b[43m)\u001b[49m\u001b[43m)\u001b[49m\n\u001b[32m      4\u001b[39m paths = sample_set.take_sample(\u001b[32m0.001\u001b[39m).take(\u001b[32m30\u001b[39m).download()\n\u001b[32m      5\u001b[39m \u001b[38;5;28mprint\u001b[39m(paths)\n",
      "\u001b[36mFile \u001b[39m\u001b[32mc:\\Users\\deanv\\Dropbox\\0_Buas\\2024-2025\\Y2D\\Demo Project\\mlops-demo-project\\backend-microservice\\.venv\\Lib\\site-packages\\azureml\\data\\_loggerfactory.py:140\u001b[39m, in \u001b[36mtrack.<locals>.monitor.<locals>.wrapper\u001b[39m\u001b[34m(*args, **kwargs)\u001b[39m\n\u001b[32m    138\u001b[39m \u001b[38;5;28;01mwith\u001b[39;00m _LoggerFactory.track_activity(logger, func.\u001b[34m__name__\u001b[39m, activity_type, custom_dimensions) \u001b[38;5;28;01mas\u001b[39;00m al:\n\u001b[32m    139\u001b[39m     \u001b[38;5;28;01mtry\u001b[39;00m:\n\u001b[32m--> \u001b[39m\u001b[32m140\u001b[39m         \u001b[38;5;28;01mreturn\u001b[39;00m \u001b[43mfunc\u001b[49m\u001b[43m(\u001b[49m\u001b[43m*\u001b[49m\u001b[43margs\u001b[49m\u001b[43m,\u001b[49m\u001b[43m \u001b[49m\u001b[43m*\u001b[49m\u001b[43m*\u001b[49m\u001b[43mkwargs\u001b[49m\u001b[43m)\u001b[49m\n\u001b[32m    141\u001b[39m     \u001b[38;5;28;01mexcept\u001b[39;00m \u001b[38;5;167;01mException\u001b[39;00m \u001b[38;5;28;01mas\u001b[39;00m e:\n\u001b[32m    142\u001b[39m         \u001b[38;5;28;01mif\u001b[39;00m \u001b[38;5;28mhasattr\u001b[39m(al, \u001b[33m'\u001b[39m\u001b[33mactivity_info\u001b[39m\u001b[33m'\u001b[39m) \u001b[38;5;129;01mand\u001b[39;00m \u001b[38;5;28mhasattr\u001b[39m(e, \u001b[33m'\u001b[39m\u001b[33merror_code\u001b[39m\u001b[33m'\u001b[39m):\n",
      "\u001b[36mFile \u001b[39m\u001b[32mc:\\Users\\deanv\\Dropbox\\0_Buas\\2024-2025\\Y2D\\Demo Project\\mlops-demo-project\\backend-microservice\\.venv\\Lib\\site-packages\\azureml\\data\\dataset_factory.py:881\u001b[39m, in \u001b[36mFileDatasetFactory.from_files\u001b[39m\u001b[34m(path, validate, partition_format, is_file)\u001b[39m\n\u001b[32m    878\u001b[39m \u001b[38;5;28;01mif\u001b[39;00m is_file \u001b[38;5;129;01mand\u001b[39;00m validate:\n\u001b[32m    879\u001b[39m     warnings.warn(\u001b[33m\"\u001b[39m\u001b[33mNo validation will be performed because `is_file` is set to True.\u001b[39m\u001b[33m\"\u001b[39m)\n\u001b[32m--> \u001b[39m\u001b[32m881\u001b[39m dataflow = \u001b[43mdataprep\u001b[49m\u001b[43m(\u001b[49m\u001b[43m)\u001b[49m.EnginelessDataflow.from_paths(path, is_file)\n\u001b[32m    883\u001b[39m \u001b[38;5;28;01mif\u001b[39;00m partition_format:\n\u001b[32m    884\u001b[39m     dataflow = _transform_and_validate(dataflow, partition_format, validate)\n",
      "\u001b[36mFile \u001b[39m\u001b[32mc:\\Users\\deanv\\Dropbox\\0_Buas\\2024-2025\\Y2D\\Demo Project\\mlops-demo-project\\backend-microservice\\.venv\\Lib\\site-packages\\azureml\\data\\_dataprep_helper.py:36\u001b[39m, in \u001b[36mdataprep\u001b[39m\u001b[34m()\u001b[39m\n\u001b[32m     34\u001b[39m \u001b[38;5;28;01mdef\u001b[39;00m\u001b[38;5;250m \u001b[39m\u001b[34mdataprep\u001b[39m():\n\u001b[32m     35\u001b[39m     \u001b[38;5;28;01mif\u001b[39;00m \u001b[38;5;129;01mnot\u001b[39;00m is_dataprep_installed():\n\u001b[32m---> \u001b[39m\u001b[32m36\u001b[39m         \u001b[38;5;28;01mraise\u001b[39;00m \u001b[38;5;167;01mImportError\u001b[39;00m(get_dataprep_missing_message())\n\u001b[32m     37\u001b[39m     \u001b[38;5;28;01mimport\u001b[39;00m\u001b[38;5;250m \u001b[39m\u001b[34;01mazureml\u001b[39;00m\u001b[34;01m.\u001b[39;00m\u001b[34;01mdataprep\u001b[39;00m\u001b[38;5;250m \u001b[39m\u001b[38;5;28;01mas\u001b[39;00m\u001b[38;5;250m \u001b[39m\u001b[34;01m_dprep\u001b[39;00m\n\u001b[32m     38\u001b[39m     check_min_version()\n",
      "\u001b[31mImportError\u001b[39m: Missing required package \"azureml-dataset-runtime\", which can be installed by running: \"c:\\Users\\deanv\\Dropbox\\0_Buas\\2024-2025\\Y2D\\Demo Project\\mlops-demo-project\\backend-microservice\\.venv\\Scripts\\python.exe\" -m pip install azureml-dataset-runtime --upgrade"
     ]
    }
   ],
   "source": [
    "# Create a FileDataset from a path to a directory.\n",
    "# The directory contains a folder per class, each of which contains image files.\n",
    "sample_set = Dataset.File.from_files(path=(datastore, 'transcripts'))\n",
    "paths = sample_set.take_sample(0.001).take(30).download()\n",
    "print(paths)"
   ]
  },
  {
   "cell_type": "code",
   "execution_count": 20,
   "id": "f1a620ea",
   "metadata": {},
   "outputs": [
    {
     "name": "stderr",
     "output_type": "stream",
     "text": [
      "2025-05-25 14:02:55.082611 | ActivityCompleted: Activity=from_files, HowEnded=Failure, Duration=0.0 [ms], Info = {'activity_id': '444fff19-5219-4594-a6d7-a8cf31e2a0bc', 'activity_name': 'from_files', 'activity_type': 'PublicApi', 'app_name': 'FileDataset', 'source': 'azureml.dataset', 'version': '1.60.0', 'dataprepVersion': '', 'sparkVersion': '', 'subscription': '', 'run_id': '', 'resource_group': '', 'workspace_name': '', 'experiment_id': '', 'location': ''}, Exception=ImportError; Missing required package \"azureml-dataset-runtime\", which can be installed by running: \"c:\\Users\\deanv\\Dropbox\\0_Buas\\2024-2025\\Y2D\\Demo Project\\mlops-demo-project\\backend-microservice\\.venv\\Scripts\\python.exe\" -m pip install azureml-dataset-runtime --upgrade\n"
     ]
    },
    {
     "ename": "ImportError",
     "evalue": "Missing required package \"azureml-dataset-runtime\", which can be installed by running: \"c:\\Users\\deanv\\Dropbox\\0_Buas\\2024-2025\\Y2D\\Demo Project\\mlops-demo-project\\backend-microservice\\.venv\\Scripts\\python.exe\" -m pip install azureml-dataset-runtime --upgrade",
     "output_type": "error",
     "traceback": [
      "\u001b[31m---------------------------------------------------------------------------\u001b[39m",
      "\u001b[31mImportError\u001b[39m                               Traceback (most recent call last)",
      "\u001b[36mCell\u001b[39m\u001b[36m \u001b[39m\u001b[32mIn[20]\u001b[39m\u001b[32m, line 2\u001b[39m\n\u001b[32m      1\u001b[39m \u001b[38;5;66;03m# Create a FileDataset from a path to a directory for the training data.\u001b[39;00m\n\u001b[32m----> \u001b[39m\u001b[32m2\u001b[39m train_set = \u001b[43mDataset\u001b[49m\u001b[43m.\u001b[49m\u001b[43mFile\u001b[49m\u001b[43m.\u001b[49m\u001b[43mfrom_files\u001b[49m\u001b[43m(\u001b[49m\u001b[43mpath\u001b[49m\u001b[43m=\u001b[49m\u001b[43m(\u001b[49m\u001b[43mdatastore\u001b[49m\u001b[43m,\u001b[49m\u001b[43m \u001b[49m\u001b[33;43m'\u001b[39;49m\u001b[33;43mtranscripts/train\u001b[39;49m\u001b[33;43m'\u001b[39;49m\u001b[43m)\u001b[49m\u001b[43m)\u001b[49m\n\u001b[32m      3\u001b[39m \u001b[38;5;66;03m# Split the dataset into train and validation sets\u001b[39;00m\n\u001b[32m      4\u001b[39m \u001b[38;5;66;03m# train_set, val_set = train_set.random_split(0.8, seed=123)\u001b[39;00m\n\u001b[32m      5\u001b[39m val_set = Dataset.File.from_files(path=(datastore, \u001b[33m'\u001b[39m\u001b[33mtranscripts/train\u001b[39m\u001b[33m'\u001b[39m))\n",
      "\u001b[36mFile \u001b[39m\u001b[32mc:\\Users\\deanv\\Dropbox\\0_Buas\\2024-2025\\Y2D\\Demo Project\\mlops-demo-project\\backend-microservice\\.venv\\Lib\\site-packages\\azureml\\data\\_loggerfactory.py:140\u001b[39m, in \u001b[36mtrack.<locals>.monitor.<locals>.wrapper\u001b[39m\u001b[34m(*args, **kwargs)\u001b[39m\n\u001b[32m    138\u001b[39m \u001b[38;5;28;01mwith\u001b[39;00m _LoggerFactory.track_activity(logger, func.\u001b[34m__name__\u001b[39m, activity_type, custom_dimensions) \u001b[38;5;28;01mas\u001b[39;00m al:\n\u001b[32m    139\u001b[39m     \u001b[38;5;28;01mtry\u001b[39;00m:\n\u001b[32m--> \u001b[39m\u001b[32m140\u001b[39m         \u001b[38;5;28;01mreturn\u001b[39;00m \u001b[43mfunc\u001b[49m\u001b[43m(\u001b[49m\u001b[43m*\u001b[49m\u001b[43margs\u001b[49m\u001b[43m,\u001b[49m\u001b[43m \u001b[49m\u001b[43m*\u001b[49m\u001b[43m*\u001b[49m\u001b[43mkwargs\u001b[49m\u001b[43m)\u001b[49m\n\u001b[32m    141\u001b[39m     \u001b[38;5;28;01mexcept\u001b[39;00m \u001b[38;5;167;01mException\u001b[39;00m \u001b[38;5;28;01mas\u001b[39;00m e:\n\u001b[32m    142\u001b[39m         \u001b[38;5;28;01mif\u001b[39;00m \u001b[38;5;28mhasattr\u001b[39m(al, \u001b[33m'\u001b[39m\u001b[33mactivity_info\u001b[39m\u001b[33m'\u001b[39m) \u001b[38;5;129;01mand\u001b[39;00m \u001b[38;5;28mhasattr\u001b[39m(e, \u001b[33m'\u001b[39m\u001b[33merror_code\u001b[39m\u001b[33m'\u001b[39m):\n",
      "\u001b[36mFile \u001b[39m\u001b[32mc:\\Users\\deanv\\Dropbox\\0_Buas\\2024-2025\\Y2D\\Demo Project\\mlops-demo-project\\backend-microservice\\.venv\\Lib\\site-packages\\azureml\\data\\dataset_factory.py:881\u001b[39m, in \u001b[36mFileDatasetFactory.from_files\u001b[39m\u001b[34m(path, validate, partition_format, is_file)\u001b[39m\n\u001b[32m    878\u001b[39m \u001b[38;5;28;01mif\u001b[39;00m is_file \u001b[38;5;129;01mand\u001b[39;00m validate:\n\u001b[32m    879\u001b[39m     warnings.warn(\u001b[33m\"\u001b[39m\u001b[33mNo validation will be performed because `is_file` is set to True.\u001b[39m\u001b[33m\"\u001b[39m)\n\u001b[32m--> \u001b[39m\u001b[32m881\u001b[39m dataflow = \u001b[43mdataprep\u001b[49m\u001b[43m(\u001b[49m\u001b[43m)\u001b[49m.EnginelessDataflow.from_paths(path, is_file)\n\u001b[32m    883\u001b[39m \u001b[38;5;28;01mif\u001b[39;00m partition_format:\n\u001b[32m    884\u001b[39m     dataflow = _transform_and_validate(dataflow, partition_format, validate)\n",
      "\u001b[36mFile \u001b[39m\u001b[32mc:\\Users\\deanv\\Dropbox\\0_Buas\\2024-2025\\Y2D\\Demo Project\\mlops-demo-project\\backend-microservice\\.venv\\Lib\\site-packages\\azureml\\data\\_dataprep_helper.py:36\u001b[39m, in \u001b[36mdataprep\u001b[39m\u001b[34m()\u001b[39m\n\u001b[32m     34\u001b[39m \u001b[38;5;28;01mdef\u001b[39;00m\u001b[38;5;250m \u001b[39m\u001b[34mdataprep\u001b[39m():\n\u001b[32m     35\u001b[39m     \u001b[38;5;28;01mif\u001b[39;00m \u001b[38;5;129;01mnot\u001b[39;00m is_dataprep_installed():\n\u001b[32m---> \u001b[39m\u001b[32m36\u001b[39m         \u001b[38;5;28;01mraise\u001b[39;00m \u001b[38;5;167;01mImportError\u001b[39;00m(get_dataprep_missing_message())\n\u001b[32m     37\u001b[39m     \u001b[38;5;28;01mimport\u001b[39;00m\u001b[38;5;250m \u001b[39m\u001b[34;01mazureml\u001b[39;00m\u001b[34;01m.\u001b[39;00m\u001b[34;01mdataprep\u001b[39;00m\u001b[38;5;250m \u001b[39m\u001b[38;5;28;01mas\u001b[39;00m\u001b[38;5;250m \u001b[39m\u001b[34;01m_dprep\u001b[39;00m\n\u001b[32m     38\u001b[39m     check_min_version()\n",
      "\u001b[31mImportError\u001b[39m: Missing required package \"azureml-dataset-runtime\", which can be installed by running: \"c:\\Users\\deanv\\Dropbox\\0_Buas\\2024-2025\\Y2D\\Demo Project\\mlops-demo-project\\backend-microservice\\.venv\\Scripts\\python.exe\" -m pip install azureml-dataset-runtime --upgrade"
     ]
    }
   ],
   "source": [
    "# Create a FileDataset from a path to a directory for the training data.\n",
    "train_set = Dataset.File.from_files(path=(datastore, 'transcripts/train'))\n",
    "# Split the dataset into train and validation sets\n",
    "# train_set, val_set = train_set.random_split(0.8, seed=123)\n",
    "val_set = Dataset.File.from_files(path=(datastore, 'transcripts/train'))\n",
    "# Create a FileDataset from a path to a directory for the test data.\n",
    "test_set = Dataset.File.from_files(path=(datastore, 'transcripts/test'))\n",
    "\n",
    "#register the datasets\n",
    "train_reg = train_set.register(workspace=workspace, name='transcripts_train', description='training data', create_new_version=True)\n",
    "val_reg = val_set.register(workspace=workspace, name='transcripts_val', description='validation data', create_new_version=True)\n",
    "test_reg = test_set.register(workspace=workspace, name='transcriptss_test', description='test data', create_new_version=True)"
   ]
  },
  {
   "cell_type": "code",
   "execution_count": 13,
   "id": "568e58b3",
   "metadata": {},
   "outputs": [],
   "source": [
    "from azure.ai.ml import MLClient\n",
    "from azure.ai.ml.entities import Data\n",
    "from azure.ai.ml.constants import AssetTypes\n",
    "from azure.identity import InteractiveBrowserCredential\n",
    "import random"
   ]
  },
  {
   "cell_type": "code",
   "execution_count": 14,
   "id": "c5dcd7a2",
   "metadata": {},
   "outputs": [],
   "source": [
    "# Initialize client\n",
    "ml_client = MLClient(\n",
    "    credential=InteractiveBrowserCredential(),\n",
    "    subscription_id=subscription_id,\n",
    "    resource_group_name=resource_group,\n",
    "    workspace_name=workspace_name\n",
    ")\n"
   ]
  },
  {
   "cell_type": "code",
   "execution_count": 15,
   "id": "87486cf0",
   "metadata": {},
   "outputs": [],
   "source": [
    "# Get datastore reference\n",
    "datastore = ml_client.datastores.get(\"workspaceblobstore\")  # or your datastore name"
   ]
  },
  {
   "cell_type": "code",
   "execution_count": null,
   "id": "45bbc081",
   "metadata": {},
   "outputs": [],
   "source": [
    "# Create data URIs (equivalent to Dataset.File.from_files)\n",
    "train_uri = f\"azureml://datastores/{datastore.name}/paths/transcript/train\"\n",
    "val_uri = f\"azureml://datastores/{datastore.name}/paths/transcript/validaion\"\n",
    "test_uri = f\"azureml://datastores/{datastore.name}/paths/transcript/test\""
   ]
  },
  {
   "cell_type": "code",
   "execution_count": 40,
   "id": "86d1d4a4",
   "metadata": {},
   "outputs": [
    {
     "name": "stdout",
     "output_type": "stream",
     "text": [
      "Registered datasets:\n",
      "Train: transcripts_train v1\n",
      "Val: transcripts_val v1\n",
      "Test: transcripts_test v1\n"
     ]
    }
   ],
   "source": [
    "train_data = Data(\n",
    "    name=\"transcripts_train\",\n",
    "    description=\"training data\",\n",
    "    path=train_uri,\n",
    "    type=AssetTypes.URI_FOLDER\n",
    ")\n",
    "\n",
    "val_data = Data(\n",
    "    name=\"transcripts_val\",\n",
    "    description=\"validation data\",\n",
    "    path=val_uri,\n",
    "    type=AssetTypes.URI_FOLDER\n",
    ")\n",
    "\n",
    "test_data = Data(\n",
    "    name=\"transcripts_test\",\n",
    "    description=\"test data\", \n",
    "    path=test_uri,\n",
    "    type=AssetTypes.URI_FOLDER\n",
    ")\n",
    "\n",
    "# Register the datasets\n",
    "train_reg = ml_client.data.create_or_update(train_data)\n",
    "val_reg = ml_client.data.create_or_update(val_data)\n",
    "test_reg = ml_client.data.create_or_update(test_data)\n",
    "\n",
    "print(f\"Registered datasets:\")\n",
    "print(f\"Train: {train_reg.name} v{train_reg.version}\")\n",
    "print(f\"Val: {val_reg.name} v{val_reg.version}\")\n",
    "print(f\"Test: {test_reg.name} v{test_reg.version}\")"
   ]
  },
  {
   "cell_type": "code",
   "execution_count": 18,
   "id": "9eb371d3",
   "metadata": {},
   "outputs": [],
   "source": [
    "train_file = \"../data/training_data/train.csv\"\n",
    "val_file = \"../data/training_data/val.csv\"\n",
    "test_file = \"../data/training_data/test.csv\""
   ]
  },
  {
   "cell_type": "code",
   "execution_count": 19,
   "id": "30b8efd7",
   "metadata": {},
   "outputs": [
    {
     "name": "stdout",
     "output_type": "stream",
     "text": [
      "Registering datasets with Azure ML...\n"
     ]
    },
    {
     "name": "stderr",
     "output_type": "stream",
     "text": [
      "\u001b[32mUploading train.csv\u001b[32m (< 1 MB): 100%|##########| 162k/162k [00:00<00:00, 1.27MB/s]\n",
      "\u001b[39m\n",
      "\n"
     ]
    },
    {
     "name": "stdout",
     "output_type": "stream",
     "text": [
      "✓ Registered training dataset: transcripts_train v1\n"
     ]
    },
    {
     "name": "stderr",
     "output_type": "stream",
     "text": [
      "\u001b[32mUploading val.csv\u001b[32m (< 1 MB): 100%|##########| 43.8k/43.8k [00:00<00:00, 787kB/s]\n",
      "\u001b[39m\n",
      "\n"
     ]
    },
    {
     "name": "stdout",
     "output_type": "stream",
     "text": [
      "✓ Registered validation dataset: transcripts_val v1\n"
     ]
    },
    {
     "name": "stderr",
     "output_type": "stream",
     "text": [
      "\u001b[32mUploading test.csv\u001b[32m (< 1 MB): 100%|##########| 49.0k/49.0k [00:00<00:00, 635kB/s]\n",
      "\u001b[39m\n",
      "\n"
     ]
    },
    {
     "name": "stdout",
     "output_type": "stream",
     "text": [
      "✓ Registered test dataset: transcripts_test v1\n",
      "\n",
      "🎉 Successfully registered all datasets!\n",
      "Train: transcripts_train v1\n",
      "Val: transcripts_val v1\n",
      "Test: transcripts_test v1\n"
     ]
    }
   ],
   "source": [
    "# Create Data assets\n",
    "train_data = Data(\n",
    "    name=\"transcripts_train\",\n",
    "    description=\"Critical Role transcript training data for summarization\",\n",
    "    path=train_file,\n",
    "    type=AssetTypes.URI_FILE\n",
    ")\n",
    "\n",
    "val_data = Data(\n",
    "    name=\"transcripts_val\", \n",
    "    description=\"Critical Role transcript validation data for summarization\",\n",
    "    path=val_file,\n",
    "    type=AssetTypes.URI_FILE\n",
    ")\n",
    "\n",
    "test_data = Data(\n",
    "    name=\"transcripts_test\",\n",
    "    description=\"Critical Role transcript test data for summarization\",\n",
    "    path=test_file,\n",
    "    type=AssetTypes.URI_FILE\n",
    ")\n",
    "\n",
    "print(\"Registering datasets with Azure ML...\")\n",
    "\n",
    "# Register the datasets\n",
    "train_reg = ml_client.data.create_or_update(train_data)\n",
    "print(f\"✓ Registered training dataset: {train_reg.name} v{train_reg.version}\")\n",
    "\n",
    "val_reg = ml_client.data.create_or_update(val_data)\n",
    "print(f\"✓ Registered validation dataset: {val_reg.name} v{val_reg.version}\")\n",
    "\n",
    "test_reg = ml_client.data.create_or_update(test_data)\n",
    "print(f\"✓ Registered test dataset: {test_reg.name} v{test_reg.version}\")\n",
    "\n",
    "print(f\"\\n🎉 Successfully registered all datasets!\")\n",
    "print(f\"Train: {train_reg.name} v{train_reg.version}\")\n",
    "print(f\"Val: {val_reg.name} v{val_reg.version}\")\n",
    "print(f\"Test: {test_reg.name} v{test_reg.version}\")"
   ]
  },
  {
   "cell_type": "code",
   "execution_count": 20,
   "id": "c5769258",
   "metadata": {},
   "outputs": [],
   "source": [
    "# list all datasets registered in the current workspace\n",
    "datasets = workspace.datasets\n",
    "for name, dataset in datasets.items():\n",
    "    print(name)"
   ]
  },
  {
   "cell_type": "code",
   "execution_count": 21,
   "id": "7a62c420",
   "metadata": {},
   "outputs": [
    {
     "name": "stdout",
     "output_type": "stream",
     "text": [
      "All registered data assets:\n",
      "--------------------------------------------------\n",
      "📊 transcripts_train\n",
      "   Version: None\n",
      "   Type: uri_file\n",
      "   Description: None\n",
      "   Path: None\n",
      "   Created: 2025-06-01 14:49:32.272968+00:00\n",
      "\n",
      "📊 transcripts_val\n",
      "   Version: None\n",
      "   Type: uri_file\n",
      "   Description: None\n",
      "   Path: None\n",
      "   Created: 2025-06-01 14:49:34.190696+00:00\n",
      "\n",
      "📊 transcripts_test\n",
      "   Version: None\n",
      "   Type: uri_file\n",
      "   Description: None\n",
      "   Path: None\n",
      "   Created: 2025-06-01 14:49:36.175757+00:00\n",
      "\n"
     ]
    }
   ],
   "source": [
    "# List all data assets\n",
    "print(\"All registered data assets:\")\n",
    "print(\"-\" * 50)\n",
    "\n",
    "for data_asset in ml_client.data.list():\n",
    "    print(f\"📊 {data_asset.name}\")\n",
    "    print(f\"   Version: {data_asset.version}\")\n",
    "    print(f\"   Type: {data_asset.type}\")\n",
    "    print(f\"   Description: {data_asset.description}\")\n",
    "    print(f\"   Path: {data_asset.path}\")\n",
    "    print(f\"   Created: {data_asset.creation_context.created_at}\")\n",
    "    print()"
   ]
  },
  {
   "cell_type": "code",
   "execution_count": 24,
   "id": "80f888fb",
   "metadata": {},
   "outputs": [
    {
     "ename": "ValueError",
     "evalue": "Protocol not known: azureml",
     "output_type": "error",
     "traceback": [
      "\u001b[1;31m---------------------------------------------------------------------------\u001b[0m",
      "\u001b[1;31mValueError\u001b[0m                                Traceback (most recent call last)",
      "Cell \u001b[1;32mIn[24], line 5\u001b[0m\n\u001b[0;32m      1\u001b[0m \u001b[38;5;28;01mimport\u001b[39;00m \u001b[38;5;21;01mpandas\u001b[39;00m \u001b[38;5;28;01mas\u001b[39;00m \u001b[38;5;21;01mpd\u001b[39;00m\n\u001b[0;32m      3\u001b[0m data_asset \u001b[38;5;241m=\u001b[39m ml_client\u001b[38;5;241m.\u001b[39mdata\u001b[38;5;241m.\u001b[39mget(\u001b[38;5;124m\"\u001b[39m\u001b[38;5;124mtranscripts_train\u001b[39m\u001b[38;5;124m\"\u001b[39m, version\u001b[38;5;241m=\u001b[39m\u001b[38;5;124m\"\u001b[39m\u001b[38;5;124m1\u001b[39m\u001b[38;5;124m\"\u001b[39m)\n\u001b[1;32m----> 5\u001b[0m df \u001b[38;5;241m=\u001b[39m \u001b[43mpd\u001b[49m\u001b[38;5;241;43m.\u001b[39;49m\u001b[43mread_csv\u001b[49m\u001b[43m(\u001b[49m\u001b[43mdata_asset\u001b[49m\u001b[38;5;241;43m.\u001b[39;49m\u001b[43mpath\u001b[49m\u001b[43m)\u001b[49m\n\u001b[0;32m      6\u001b[0m df\n",
      "File \u001b[1;32m~\\AppData\\Local\\Packages\\PythonSoftwareFoundation.Python.3.11_qbz5n2kfra8p0\\LocalCache\\local-packages\\Python311\\site-packages\\pandas\\io\\parsers\\readers.py:1026\u001b[0m, in \u001b[0;36mread_csv\u001b[1;34m(filepath_or_buffer, sep, delimiter, header, names, index_col, usecols, dtype, engine, converters, true_values, false_values, skipinitialspace, skiprows, skipfooter, nrows, na_values, keep_default_na, na_filter, verbose, skip_blank_lines, parse_dates, infer_datetime_format, keep_date_col, date_parser, date_format, dayfirst, cache_dates, iterator, chunksize, compression, thousands, decimal, lineterminator, quotechar, quoting, doublequote, escapechar, comment, encoding, encoding_errors, dialect, on_bad_lines, delim_whitespace, low_memory, memory_map, float_precision, storage_options, dtype_backend)\u001b[0m\n\u001b[0;32m   1013\u001b[0m kwds_defaults \u001b[38;5;241m=\u001b[39m _refine_defaults_read(\n\u001b[0;32m   1014\u001b[0m     dialect,\n\u001b[0;32m   1015\u001b[0m     delimiter,\n\u001b[1;32m   (...)\u001b[0m\n\u001b[0;32m   1022\u001b[0m     dtype_backend\u001b[38;5;241m=\u001b[39mdtype_backend,\n\u001b[0;32m   1023\u001b[0m )\n\u001b[0;32m   1024\u001b[0m kwds\u001b[38;5;241m.\u001b[39mupdate(kwds_defaults)\n\u001b[1;32m-> 1026\u001b[0m \u001b[38;5;28;01mreturn\u001b[39;00m \u001b[43m_read\u001b[49m\u001b[43m(\u001b[49m\u001b[43mfilepath_or_buffer\u001b[49m\u001b[43m,\u001b[49m\u001b[43m \u001b[49m\u001b[43mkwds\u001b[49m\u001b[43m)\u001b[49m\n",
      "File \u001b[1;32m~\\AppData\\Local\\Packages\\PythonSoftwareFoundation.Python.3.11_qbz5n2kfra8p0\\LocalCache\\local-packages\\Python311\\site-packages\\pandas\\io\\parsers\\readers.py:620\u001b[0m, in \u001b[0;36m_read\u001b[1;34m(filepath_or_buffer, kwds)\u001b[0m\n\u001b[0;32m    617\u001b[0m _validate_names(kwds\u001b[38;5;241m.\u001b[39mget(\u001b[38;5;124m\"\u001b[39m\u001b[38;5;124mnames\u001b[39m\u001b[38;5;124m\"\u001b[39m, \u001b[38;5;28;01mNone\u001b[39;00m))\n\u001b[0;32m    619\u001b[0m \u001b[38;5;66;03m# Create the parser.\u001b[39;00m\n\u001b[1;32m--> 620\u001b[0m parser \u001b[38;5;241m=\u001b[39m \u001b[43mTextFileReader\u001b[49m\u001b[43m(\u001b[49m\u001b[43mfilepath_or_buffer\u001b[49m\u001b[43m,\u001b[49m\u001b[43m \u001b[49m\u001b[38;5;241;43m*\u001b[39;49m\u001b[38;5;241;43m*\u001b[39;49m\u001b[43mkwds\u001b[49m\u001b[43m)\u001b[49m\n\u001b[0;32m    622\u001b[0m \u001b[38;5;28;01mif\u001b[39;00m chunksize \u001b[38;5;129;01mor\u001b[39;00m iterator:\n\u001b[0;32m    623\u001b[0m     \u001b[38;5;28;01mreturn\u001b[39;00m parser\n",
      "File \u001b[1;32m~\\AppData\\Local\\Packages\\PythonSoftwareFoundation.Python.3.11_qbz5n2kfra8p0\\LocalCache\\local-packages\\Python311\\site-packages\\pandas\\io\\parsers\\readers.py:1620\u001b[0m, in \u001b[0;36mTextFileReader.__init__\u001b[1;34m(self, f, engine, **kwds)\u001b[0m\n\u001b[0;32m   1617\u001b[0m     \u001b[38;5;28mself\u001b[39m\u001b[38;5;241m.\u001b[39moptions[\u001b[38;5;124m\"\u001b[39m\u001b[38;5;124mhas_index_names\u001b[39m\u001b[38;5;124m\"\u001b[39m] \u001b[38;5;241m=\u001b[39m kwds[\u001b[38;5;124m\"\u001b[39m\u001b[38;5;124mhas_index_names\u001b[39m\u001b[38;5;124m\"\u001b[39m]\n\u001b[0;32m   1619\u001b[0m \u001b[38;5;28mself\u001b[39m\u001b[38;5;241m.\u001b[39mhandles: IOHandles \u001b[38;5;241m|\u001b[39m \u001b[38;5;28;01mNone\u001b[39;00m \u001b[38;5;241m=\u001b[39m \u001b[38;5;28;01mNone\u001b[39;00m\n\u001b[1;32m-> 1620\u001b[0m \u001b[38;5;28mself\u001b[39m\u001b[38;5;241m.\u001b[39m_engine \u001b[38;5;241m=\u001b[39m \u001b[38;5;28;43mself\u001b[39;49m\u001b[38;5;241;43m.\u001b[39;49m\u001b[43m_make_engine\u001b[49m\u001b[43m(\u001b[49m\u001b[43mf\u001b[49m\u001b[43m,\u001b[49m\u001b[43m \u001b[49m\u001b[38;5;28;43mself\u001b[39;49m\u001b[38;5;241;43m.\u001b[39;49m\u001b[43mengine\u001b[49m\u001b[43m)\u001b[49m\n",
      "File \u001b[1;32m~\\AppData\\Local\\Packages\\PythonSoftwareFoundation.Python.3.11_qbz5n2kfra8p0\\LocalCache\\local-packages\\Python311\\site-packages\\pandas\\io\\parsers\\readers.py:1880\u001b[0m, in \u001b[0;36mTextFileReader._make_engine\u001b[1;34m(self, f, engine)\u001b[0m\n\u001b[0;32m   1878\u001b[0m     \u001b[38;5;28;01mif\u001b[39;00m \u001b[38;5;124m\"\u001b[39m\u001b[38;5;124mb\u001b[39m\u001b[38;5;124m\"\u001b[39m \u001b[38;5;129;01mnot\u001b[39;00m \u001b[38;5;129;01min\u001b[39;00m mode:\n\u001b[0;32m   1879\u001b[0m         mode \u001b[38;5;241m+\u001b[39m\u001b[38;5;241m=\u001b[39m \u001b[38;5;124m\"\u001b[39m\u001b[38;5;124mb\u001b[39m\u001b[38;5;124m\"\u001b[39m\n\u001b[1;32m-> 1880\u001b[0m \u001b[38;5;28mself\u001b[39m\u001b[38;5;241m.\u001b[39mhandles \u001b[38;5;241m=\u001b[39m \u001b[43mget_handle\u001b[49m\u001b[43m(\u001b[49m\n\u001b[0;32m   1881\u001b[0m \u001b[43m    \u001b[49m\u001b[43mf\u001b[49m\u001b[43m,\u001b[49m\n\u001b[0;32m   1882\u001b[0m \u001b[43m    \u001b[49m\u001b[43mmode\u001b[49m\u001b[43m,\u001b[49m\n\u001b[0;32m   1883\u001b[0m \u001b[43m    \u001b[49m\u001b[43mencoding\u001b[49m\u001b[38;5;241;43m=\u001b[39;49m\u001b[38;5;28;43mself\u001b[39;49m\u001b[38;5;241;43m.\u001b[39;49m\u001b[43moptions\u001b[49m\u001b[38;5;241;43m.\u001b[39;49m\u001b[43mget\u001b[49m\u001b[43m(\u001b[49m\u001b[38;5;124;43m\"\u001b[39;49m\u001b[38;5;124;43mencoding\u001b[39;49m\u001b[38;5;124;43m\"\u001b[39;49m\u001b[43m,\u001b[49m\u001b[43m \u001b[49m\u001b[38;5;28;43;01mNone\u001b[39;49;00m\u001b[43m)\u001b[49m\u001b[43m,\u001b[49m\n\u001b[0;32m   1884\u001b[0m \u001b[43m    \u001b[49m\u001b[43mcompression\u001b[49m\u001b[38;5;241;43m=\u001b[39;49m\u001b[38;5;28;43mself\u001b[39;49m\u001b[38;5;241;43m.\u001b[39;49m\u001b[43moptions\u001b[49m\u001b[38;5;241;43m.\u001b[39;49m\u001b[43mget\u001b[49m\u001b[43m(\u001b[49m\u001b[38;5;124;43m\"\u001b[39;49m\u001b[38;5;124;43mcompression\u001b[39;49m\u001b[38;5;124;43m\"\u001b[39;49m\u001b[43m,\u001b[49m\u001b[43m \u001b[49m\u001b[38;5;28;43;01mNone\u001b[39;49;00m\u001b[43m)\u001b[49m\u001b[43m,\u001b[49m\n\u001b[0;32m   1885\u001b[0m \u001b[43m    \u001b[49m\u001b[43mmemory_map\u001b[49m\u001b[38;5;241;43m=\u001b[39;49m\u001b[38;5;28;43mself\u001b[39;49m\u001b[38;5;241;43m.\u001b[39;49m\u001b[43moptions\u001b[49m\u001b[38;5;241;43m.\u001b[39;49m\u001b[43mget\u001b[49m\u001b[43m(\u001b[49m\u001b[38;5;124;43m\"\u001b[39;49m\u001b[38;5;124;43mmemory_map\u001b[39;49m\u001b[38;5;124;43m\"\u001b[39;49m\u001b[43m,\u001b[49m\u001b[43m \u001b[49m\u001b[38;5;28;43;01mFalse\u001b[39;49;00m\u001b[43m)\u001b[49m\u001b[43m,\u001b[49m\n\u001b[0;32m   1886\u001b[0m \u001b[43m    \u001b[49m\u001b[43mis_text\u001b[49m\u001b[38;5;241;43m=\u001b[39;49m\u001b[43mis_text\u001b[49m\u001b[43m,\u001b[49m\n\u001b[0;32m   1887\u001b[0m \u001b[43m    \u001b[49m\u001b[43merrors\u001b[49m\u001b[38;5;241;43m=\u001b[39;49m\u001b[38;5;28;43mself\u001b[39;49m\u001b[38;5;241;43m.\u001b[39;49m\u001b[43moptions\u001b[49m\u001b[38;5;241;43m.\u001b[39;49m\u001b[43mget\u001b[49m\u001b[43m(\u001b[49m\u001b[38;5;124;43m\"\u001b[39;49m\u001b[38;5;124;43mencoding_errors\u001b[39;49m\u001b[38;5;124;43m\"\u001b[39;49m\u001b[43m,\u001b[49m\u001b[43m \u001b[49m\u001b[38;5;124;43m\"\u001b[39;49m\u001b[38;5;124;43mstrict\u001b[39;49m\u001b[38;5;124;43m\"\u001b[39;49m\u001b[43m)\u001b[49m\u001b[43m,\u001b[49m\n\u001b[0;32m   1888\u001b[0m \u001b[43m    \u001b[49m\u001b[43mstorage_options\u001b[49m\u001b[38;5;241;43m=\u001b[39;49m\u001b[38;5;28;43mself\u001b[39;49m\u001b[38;5;241;43m.\u001b[39;49m\u001b[43moptions\u001b[49m\u001b[38;5;241;43m.\u001b[39;49m\u001b[43mget\u001b[49m\u001b[43m(\u001b[49m\u001b[38;5;124;43m\"\u001b[39;49m\u001b[38;5;124;43mstorage_options\u001b[39;49m\u001b[38;5;124;43m\"\u001b[39;49m\u001b[43m,\u001b[49m\u001b[43m \u001b[49m\u001b[38;5;28;43;01mNone\u001b[39;49;00m\u001b[43m)\u001b[49m\u001b[43m,\u001b[49m\n\u001b[0;32m   1889\u001b[0m \u001b[43m\u001b[49m\u001b[43m)\u001b[49m\n\u001b[0;32m   1890\u001b[0m \u001b[38;5;28;01massert\u001b[39;00m \u001b[38;5;28mself\u001b[39m\u001b[38;5;241m.\u001b[39mhandles \u001b[38;5;129;01mis\u001b[39;00m \u001b[38;5;129;01mnot\u001b[39;00m \u001b[38;5;28;01mNone\u001b[39;00m\n\u001b[0;32m   1891\u001b[0m f \u001b[38;5;241m=\u001b[39m \u001b[38;5;28mself\u001b[39m\u001b[38;5;241m.\u001b[39mhandles\u001b[38;5;241m.\u001b[39mhandle\n",
      "File \u001b[1;32m~\\AppData\\Local\\Packages\\PythonSoftwareFoundation.Python.3.11_qbz5n2kfra8p0\\LocalCache\\local-packages\\Python311\\site-packages\\pandas\\io\\common.py:728\u001b[0m, in \u001b[0;36mget_handle\u001b[1;34m(path_or_buf, mode, encoding, compression, memory_map, is_text, errors, storage_options)\u001b[0m\n\u001b[0;32m    725\u001b[0m     codecs\u001b[38;5;241m.\u001b[39mlookup_error(errors)\n\u001b[0;32m    727\u001b[0m \u001b[38;5;66;03m# open URLs\u001b[39;00m\n\u001b[1;32m--> 728\u001b[0m ioargs \u001b[38;5;241m=\u001b[39m \u001b[43m_get_filepath_or_buffer\u001b[49m\u001b[43m(\u001b[49m\n\u001b[0;32m    729\u001b[0m \u001b[43m    \u001b[49m\u001b[43mpath_or_buf\u001b[49m\u001b[43m,\u001b[49m\n\u001b[0;32m    730\u001b[0m \u001b[43m    \u001b[49m\u001b[43mencoding\u001b[49m\u001b[38;5;241;43m=\u001b[39;49m\u001b[43mencoding\u001b[49m\u001b[43m,\u001b[49m\n\u001b[0;32m    731\u001b[0m \u001b[43m    \u001b[49m\u001b[43mcompression\u001b[49m\u001b[38;5;241;43m=\u001b[39;49m\u001b[43mcompression\u001b[49m\u001b[43m,\u001b[49m\n\u001b[0;32m    732\u001b[0m \u001b[43m    \u001b[49m\u001b[43mmode\u001b[49m\u001b[38;5;241;43m=\u001b[39;49m\u001b[43mmode\u001b[49m\u001b[43m,\u001b[49m\n\u001b[0;32m    733\u001b[0m \u001b[43m    \u001b[49m\u001b[43mstorage_options\u001b[49m\u001b[38;5;241;43m=\u001b[39;49m\u001b[43mstorage_options\u001b[49m\u001b[43m,\u001b[49m\n\u001b[0;32m    734\u001b[0m \u001b[43m\u001b[49m\u001b[43m)\u001b[49m\n\u001b[0;32m    736\u001b[0m handle \u001b[38;5;241m=\u001b[39m ioargs\u001b[38;5;241m.\u001b[39mfilepath_or_buffer\n\u001b[0;32m    737\u001b[0m handles: \u001b[38;5;28mlist\u001b[39m[BaseBuffer]\n",
      "File \u001b[1;32m~\\AppData\\Local\\Packages\\PythonSoftwareFoundation.Python.3.11_qbz5n2kfra8p0\\LocalCache\\local-packages\\Python311\\site-packages\\pandas\\io\\common.py:430\u001b[0m, in \u001b[0;36m_get_filepath_or_buffer\u001b[1;34m(filepath_or_buffer, encoding, compression, mode, storage_options)\u001b[0m\n\u001b[0;32m    427\u001b[0m     \u001b[38;5;28;01mpass\u001b[39;00m\n\u001b[0;32m    429\u001b[0m \u001b[38;5;28;01mtry\u001b[39;00m:\n\u001b[1;32m--> 430\u001b[0m     file_obj \u001b[38;5;241m=\u001b[39m \u001b[43mfsspec\u001b[49m\u001b[38;5;241;43m.\u001b[39;49m\u001b[43mopen\u001b[49m\u001b[43m(\u001b[49m\n\u001b[0;32m    431\u001b[0m \u001b[43m        \u001b[49m\u001b[43mfilepath_or_buffer\u001b[49m\u001b[43m,\u001b[49m\u001b[43m \u001b[49m\u001b[43mmode\u001b[49m\u001b[38;5;241;43m=\u001b[39;49m\u001b[43mfsspec_mode\u001b[49m\u001b[43m,\u001b[49m\u001b[43m \u001b[49m\u001b[38;5;241;43m*\u001b[39;49m\u001b[38;5;241;43m*\u001b[39;49m\u001b[43m(\u001b[49m\u001b[43mstorage_options\u001b[49m\u001b[43m \u001b[49m\u001b[38;5;129;43;01mor\u001b[39;49;00m\u001b[43m \u001b[49m\u001b[43m{\u001b[49m\u001b[43m}\u001b[49m\u001b[43m)\u001b[49m\n\u001b[0;32m    432\u001b[0m \u001b[43m    \u001b[49m\u001b[43m)\u001b[49m\u001b[38;5;241m.\u001b[39mopen()\n\u001b[0;32m    433\u001b[0m \u001b[38;5;66;03m# GH 34626 Reads from Public Buckets without Credentials needs anon=True\u001b[39;00m\n\u001b[0;32m    434\u001b[0m \u001b[38;5;28;01mexcept\u001b[39;00m \u001b[38;5;28mtuple\u001b[39m(err_types_to_retry_with_anon):\n",
      "File \u001b[1;32m~\\AppData\\Local\\Packages\\PythonSoftwareFoundation.Python.3.11_qbz5n2kfra8p0\\LocalCache\\local-packages\\Python311\\site-packages\\fsspec\\core.py:487\u001b[0m, in \u001b[0;36mopen\u001b[1;34m(urlpath, mode, compression, encoding, errors, protocol, newline, expand, **kwargs)\u001b[0m\n\u001b[0;32m    429\u001b[0m \u001b[38;5;250m\u001b[39m\u001b[38;5;124;03m\"\"\"Given a path or paths, return one ``OpenFile`` object.\u001b[39;00m\n\u001b[0;32m    430\u001b[0m \n\u001b[0;32m    431\u001b[0m \u001b[38;5;124;03mParameters\u001b[39;00m\n\u001b[1;32m   (...)\u001b[0m\n\u001b[0;32m    484\u001b[0m \u001b[38;5;124;03m  https://filesystem-spec.readthedocs.io/en/latest/api.html#other-known-implementations\u001b[39;00m\n\u001b[0;32m    485\u001b[0m \u001b[38;5;124;03m\"\"\"\u001b[39;00m\n\u001b[0;32m    486\u001b[0m expand \u001b[38;5;241m=\u001b[39m DEFAULT_EXPAND \u001b[38;5;28;01mif\u001b[39;00m expand \u001b[38;5;129;01mis\u001b[39;00m \u001b[38;5;28;01mNone\u001b[39;00m \u001b[38;5;28;01melse\u001b[39;00m expand\n\u001b[1;32m--> 487\u001b[0m out \u001b[38;5;241m=\u001b[39m \u001b[43mopen_files\u001b[49m\u001b[43m(\u001b[49m\n\u001b[0;32m    488\u001b[0m \u001b[43m    \u001b[49m\u001b[43murlpath\u001b[49m\u001b[38;5;241;43m=\u001b[39;49m\u001b[43m[\u001b[49m\u001b[43murlpath\u001b[49m\u001b[43m]\u001b[49m\u001b[43m,\u001b[49m\n\u001b[0;32m    489\u001b[0m \u001b[43m    \u001b[49m\u001b[43mmode\u001b[49m\u001b[38;5;241;43m=\u001b[39;49m\u001b[43mmode\u001b[49m\u001b[43m,\u001b[49m\n\u001b[0;32m    490\u001b[0m \u001b[43m    \u001b[49m\u001b[43mcompression\u001b[49m\u001b[38;5;241;43m=\u001b[39;49m\u001b[43mcompression\u001b[49m\u001b[43m,\u001b[49m\n\u001b[0;32m    491\u001b[0m \u001b[43m    \u001b[49m\u001b[43mencoding\u001b[49m\u001b[38;5;241;43m=\u001b[39;49m\u001b[43mencoding\u001b[49m\u001b[43m,\u001b[49m\n\u001b[0;32m    492\u001b[0m \u001b[43m    \u001b[49m\u001b[43merrors\u001b[49m\u001b[38;5;241;43m=\u001b[39;49m\u001b[43merrors\u001b[49m\u001b[43m,\u001b[49m\n\u001b[0;32m    493\u001b[0m \u001b[43m    \u001b[49m\u001b[43mprotocol\u001b[49m\u001b[38;5;241;43m=\u001b[39;49m\u001b[43mprotocol\u001b[49m\u001b[43m,\u001b[49m\n\u001b[0;32m    494\u001b[0m \u001b[43m    \u001b[49m\u001b[43mnewline\u001b[49m\u001b[38;5;241;43m=\u001b[39;49m\u001b[43mnewline\u001b[49m\u001b[43m,\u001b[49m\n\u001b[0;32m    495\u001b[0m \u001b[43m    \u001b[49m\u001b[43mexpand\u001b[49m\u001b[38;5;241;43m=\u001b[39;49m\u001b[43mexpand\u001b[49m\u001b[43m,\u001b[49m\n\u001b[0;32m    496\u001b[0m \u001b[43m    \u001b[49m\u001b[38;5;241;43m*\u001b[39;49m\u001b[38;5;241;43m*\u001b[39;49m\u001b[43mkwargs\u001b[49m\u001b[43m,\u001b[49m\n\u001b[0;32m    497\u001b[0m \u001b[43m\u001b[49m\u001b[43m)\u001b[49m\n\u001b[0;32m    498\u001b[0m \u001b[38;5;28;01mif\u001b[39;00m \u001b[38;5;129;01mnot\u001b[39;00m out:\n\u001b[0;32m    499\u001b[0m     \u001b[38;5;28;01mraise\u001b[39;00m \u001b[38;5;167;01mFileNotFoundError\u001b[39;00m(urlpath)\n",
      "File \u001b[1;32m~\\AppData\\Local\\Packages\\PythonSoftwareFoundation.Python.3.11_qbz5n2kfra8p0\\LocalCache\\local-packages\\Python311\\site-packages\\fsspec\\core.py:295\u001b[0m, in \u001b[0;36mopen_files\u001b[1;34m(urlpath, mode, compression, encoding, errors, name_function, num, protocol, newline, auto_mkdir, expand, **kwargs)\u001b[0m\n\u001b[0;32m    216\u001b[0m \u001b[38;5;28;01mdef\u001b[39;00m \u001b[38;5;21mopen_files\u001b[39m(\n\u001b[0;32m    217\u001b[0m     urlpath,\n\u001b[0;32m    218\u001b[0m     mode\u001b[38;5;241m=\u001b[39m\u001b[38;5;124m\"\u001b[39m\u001b[38;5;124mrb\u001b[39m\u001b[38;5;124m\"\u001b[39m,\n\u001b[1;32m   (...)\u001b[0m\n\u001b[0;32m    228\u001b[0m     \u001b[38;5;241m*\u001b[39m\u001b[38;5;241m*\u001b[39mkwargs,\n\u001b[0;32m    229\u001b[0m ):\n\u001b[0;32m    230\u001b[0m \u001b[38;5;250m    \u001b[39m\u001b[38;5;124;03m\"\"\"Given a path or paths, return a list of ``OpenFile`` objects.\u001b[39;00m\n\u001b[0;32m    231\u001b[0m \n\u001b[0;32m    232\u001b[0m \u001b[38;5;124;03m    For writing, a str path must contain the \"*\" character, which will be filled\u001b[39;00m\n\u001b[1;32m   (...)\u001b[0m\n\u001b[0;32m    293\u001b[0m \u001b[38;5;124;03m      https://filesystem-spec.readthedocs.io/en/latest/api.html#other-known-implementations\u001b[39;00m\n\u001b[0;32m    294\u001b[0m \u001b[38;5;124;03m    \"\"\"\u001b[39;00m\n\u001b[1;32m--> 295\u001b[0m     fs, fs_token, paths \u001b[38;5;241m=\u001b[39m \u001b[43mget_fs_token_paths\u001b[49m\u001b[43m(\u001b[49m\n\u001b[0;32m    296\u001b[0m \u001b[43m        \u001b[49m\u001b[43murlpath\u001b[49m\u001b[43m,\u001b[49m\n\u001b[0;32m    297\u001b[0m \u001b[43m        \u001b[49m\u001b[43mmode\u001b[49m\u001b[43m,\u001b[49m\n\u001b[0;32m    298\u001b[0m \u001b[43m        \u001b[49m\u001b[43mnum\u001b[49m\u001b[38;5;241;43m=\u001b[39;49m\u001b[43mnum\u001b[49m\u001b[43m,\u001b[49m\n\u001b[0;32m    299\u001b[0m \u001b[43m        \u001b[49m\u001b[43mname_function\u001b[49m\u001b[38;5;241;43m=\u001b[39;49m\u001b[43mname_function\u001b[49m\u001b[43m,\u001b[49m\n\u001b[0;32m    300\u001b[0m \u001b[43m        \u001b[49m\u001b[43mstorage_options\u001b[49m\u001b[38;5;241;43m=\u001b[39;49m\u001b[43mkwargs\u001b[49m\u001b[43m,\u001b[49m\n\u001b[0;32m    301\u001b[0m \u001b[43m        \u001b[49m\u001b[43mprotocol\u001b[49m\u001b[38;5;241;43m=\u001b[39;49m\u001b[43mprotocol\u001b[49m\u001b[43m,\u001b[49m\n\u001b[0;32m    302\u001b[0m \u001b[43m        \u001b[49m\u001b[43mexpand\u001b[49m\u001b[38;5;241;43m=\u001b[39;49m\u001b[43mexpand\u001b[49m\u001b[43m,\u001b[49m\n\u001b[0;32m    303\u001b[0m \u001b[43m    \u001b[49m\u001b[43m)\u001b[49m\n\u001b[0;32m    304\u001b[0m     \u001b[38;5;28;01mif\u001b[39;00m fs\u001b[38;5;241m.\u001b[39mprotocol \u001b[38;5;241m==\u001b[39m \u001b[38;5;124m\"\u001b[39m\u001b[38;5;124mfile\u001b[39m\u001b[38;5;124m\"\u001b[39m:\n\u001b[0;32m    305\u001b[0m         fs\u001b[38;5;241m.\u001b[39mauto_mkdir \u001b[38;5;241m=\u001b[39m auto_mkdir\n",
      "File \u001b[1;32m~\\AppData\\Local\\Packages\\PythonSoftwareFoundation.Python.3.11_qbz5n2kfra8p0\\LocalCache\\local-packages\\Python311\\site-packages\\fsspec\\core.py:651\u001b[0m, in \u001b[0;36mget_fs_token_paths\u001b[1;34m(urlpath, mode, num, name_function, storage_options, protocol, expand)\u001b[0m\n\u001b[0;32m    649\u001b[0m \u001b[38;5;28;01mif\u001b[39;00m protocol:\n\u001b[0;32m    650\u001b[0m     storage_options[\u001b[38;5;124m\"\u001b[39m\u001b[38;5;124mprotocol\u001b[39m\u001b[38;5;124m\"\u001b[39m] \u001b[38;5;241m=\u001b[39m protocol\n\u001b[1;32m--> 651\u001b[0m chain \u001b[38;5;241m=\u001b[39m \u001b[43m_un_chain\u001b[49m\u001b[43m(\u001b[49m\u001b[43murlpath0\u001b[49m\u001b[43m,\u001b[49m\u001b[43m \u001b[49m\u001b[43mstorage_options\u001b[49m\u001b[43m \u001b[49m\u001b[38;5;129;43;01mor\u001b[39;49;00m\u001b[43m \u001b[49m\u001b[43m{\u001b[49m\u001b[43m}\u001b[49m\u001b[43m)\u001b[49m\n\u001b[0;32m    652\u001b[0m inkwargs \u001b[38;5;241m=\u001b[39m {}\n\u001b[0;32m    653\u001b[0m \u001b[38;5;66;03m# Reverse iterate the chain, creating a nested target_* structure\u001b[39;00m\n",
      "File \u001b[1;32m~\\AppData\\Local\\Packages\\PythonSoftwareFoundation.Python.3.11_qbz5n2kfra8p0\\LocalCache\\local-packages\\Python311\\site-packages\\fsspec\\core.py:344\u001b[0m, in \u001b[0;36m_un_chain\u001b[1;34m(path, kwargs)\u001b[0m\n\u001b[0;32m    342\u001b[0m \u001b[38;5;28;01mfor\u001b[39;00m bit \u001b[38;5;129;01min\u001b[39;00m \u001b[38;5;28mreversed\u001b[39m(bits):\n\u001b[0;32m    343\u001b[0m     protocol \u001b[38;5;241m=\u001b[39m kwargs\u001b[38;5;241m.\u001b[39mpop(\u001b[38;5;124m\"\u001b[39m\u001b[38;5;124mprotocol\u001b[39m\u001b[38;5;124m\"\u001b[39m, \u001b[38;5;28;01mNone\u001b[39;00m) \u001b[38;5;129;01mor\u001b[39;00m split_protocol(bit)[\u001b[38;5;241m0\u001b[39m] \u001b[38;5;129;01mor\u001b[39;00m \u001b[38;5;124m\"\u001b[39m\u001b[38;5;124mfile\u001b[39m\u001b[38;5;124m\"\u001b[39m\n\u001b[1;32m--> 344\u001b[0m     \u001b[38;5;28mcls\u001b[39m \u001b[38;5;241m=\u001b[39m \u001b[43mget_filesystem_class\u001b[49m\u001b[43m(\u001b[49m\u001b[43mprotocol\u001b[49m\u001b[43m)\u001b[49m\n\u001b[0;32m    345\u001b[0m     extra_kwargs \u001b[38;5;241m=\u001b[39m \u001b[38;5;28mcls\u001b[39m\u001b[38;5;241m.\u001b[39m_get_kwargs_from_urls(bit)\n\u001b[0;32m    346\u001b[0m     kws \u001b[38;5;241m=\u001b[39m kwargs\u001b[38;5;241m.\u001b[39mpop(protocol, {})\n",
      "File \u001b[1;32m~\\AppData\\Local\\Packages\\PythonSoftwareFoundation.Python.3.11_qbz5n2kfra8p0\\LocalCache\\local-packages\\Python311\\site-packages\\fsspec\\registry.py:239\u001b[0m, in \u001b[0;36mget_filesystem_class\u001b[1;34m(protocol)\u001b[0m\n\u001b[0;32m    237\u001b[0m \u001b[38;5;28;01mif\u001b[39;00m protocol \u001b[38;5;129;01mnot\u001b[39;00m \u001b[38;5;129;01min\u001b[39;00m registry:\n\u001b[0;32m    238\u001b[0m     \u001b[38;5;28;01mif\u001b[39;00m protocol \u001b[38;5;129;01mnot\u001b[39;00m \u001b[38;5;129;01min\u001b[39;00m known_implementations:\n\u001b[1;32m--> 239\u001b[0m         \u001b[38;5;28;01mraise\u001b[39;00m \u001b[38;5;167;01mValueError\u001b[39;00m(\u001b[38;5;124mf\u001b[39m\u001b[38;5;124m\"\u001b[39m\u001b[38;5;124mProtocol not known: \u001b[39m\u001b[38;5;132;01m{\u001b[39;00mprotocol\u001b[38;5;132;01m}\u001b[39;00m\u001b[38;5;124m\"\u001b[39m)\n\u001b[0;32m    240\u001b[0m     bit \u001b[38;5;241m=\u001b[39m known_implementations[protocol]\n\u001b[0;32m    241\u001b[0m     \u001b[38;5;28;01mtry\u001b[39;00m:\n",
      "\u001b[1;31mValueError\u001b[0m: Protocol not known: azureml"
     ]
    }
   ],
   "source": [
    "import pandas as pd\n",
    "\n",
    "data_asset = ml_client.data.get(\"transcripts_train\", version=\"1\")\n",
    "\n",
    "df = pd.read_csv(data_asset.path)\n",
    "df"
   ]
  },
  {
   "cell_type": "code",
   "execution_count": 25,
   "id": "70962508",
   "metadata": {},
   "outputs": [
    {
     "ename": "AttributeError",
     "evalue": "'DataOperations' object has no attribute 'download'",
     "output_type": "error",
     "traceback": [
      "\u001b[1;31m---------------------------------------------------------------------------\u001b[0m",
      "\u001b[1;31mAttributeError\u001b[0m                            Traceback (most recent call last)",
      "Cell \u001b[1;32mIn[25], line 15\u001b[0m\n\u001b[0;32m     13\u001b[0m \u001b[38;5;66;03m# Download the data asset to a temporary location\u001b[39;00m\n\u001b[0;32m     14\u001b[0m temp_dir \u001b[38;5;241m=\u001b[39m tempfile\u001b[38;5;241m.\u001b[39mmkdtemp()\n\u001b[1;32m---> 15\u001b[0m downloaded_path \u001b[38;5;241m=\u001b[39m \u001b[43mml_client\u001b[49m\u001b[38;5;241;43m.\u001b[39;49m\u001b[43mdata\u001b[49m\u001b[38;5;241;43m.\u001b[39;49m\u001b[43mdownload\u001b[49m(\n\u001b[0;32m     16\u001b[0m     name\u001b[38;5;241m=\u001b[39m\u001b[38;5;124m\"\u001b[39m\u001b[38;5;124mtranscripts_train\u001b[39m\u001b[38;5;124m\"\u001b[39m,\n\u001b[0;32m     17\u001b[0m     version\u001b[38;5;241m=\u001b[39m\u001b[38;5;124m\"\u001b[39m\u001b[38;5;124m1\u001b[39m\u001b[38;5;124m\"\u001b[39m,\n\u001b[0;32m     18\u001b[0m     download_path\u001b[38;5;241m=\u001b[39mtemp_dir\n\u001b[0;32m     19\u001b[0m )\n\u001b[0;32m     21\u001b[0m \u001b[38;5;66;03m# Find the CSV file in the downloaded folder\u001b[39;00m\n\u001b[0;32m     22\u001b[0m csv_file \u001b[38;5;241m=\u001b[39m \u001b[38;5;28;01mNone\u001b[39;00m\n",
      "\u001b[1;31mAttributeError\u001b[0m: 'DataOperations' object has no attribute 'download'"
     ]
    }
   ],
   "source": [
    "import pandas as pd\n",
    "\n",
    "# Get the data asset\n",
    "data_asset = ml_client.data.get(\"transcripts_train\", version=\"1\")\n",
    "\n",
    "# WRONG (what Azure ML Studio suggests but doesn't work):\n",
    "# df = pd.read_csv(data_asset.path)  # This fails with \"Protocol not known: azureml\"\n",
    "\n",
    "# CORRECT - Download first, then read:\n",
    "import tempfile\n",
    "import os\n",
    "\n",
    "# Download the data asset to a temporary location\n",
    "temp_dir = tempfile.mkdtemp()\n",
    "downloaded_path = ml_client.data.download(\n",
    "    name=\"transcripts_train\",\n",
    "    version=\"1\",\n",
    "    download_path=temp_dir\n",
    ")\n",
    "\n",
    "# Find the CSV file in the downloaded folder\n",
    "csv_file = None\n",
    "for root, dirs, files in os.walk(downloaded_path):\n",
    "    for file in files:\n",
    "        if file.endswith('.csv'):\n",
    "            csv_file = os.path.join(root, file)\n",
    "            break\n",
    "\n",
    "# Now read the CSV\n",
    "df = pd.read_csv(csv_file)\n",
    "df"
   ]
  },
  {
   "cell_type": "code",
   "execution_count": null,
   "id": "2d9ef093",
   "metadata": {},
   "outputs": [],
   "source": []
  }
 ],
 "metadata": {
  "kernelspec": {
   "display_name": "Python 3",
   "language": "python",
   "name": "python3"
  },
  "language_info": {
   "codemirror_mode": {
    "name": "ipython",
    "version": 3
   },
   "file_extension": ".py",
   "mimetype": "text/x-python",
   "name": "python",
   "nbconvert_exporter": "python",
   "pygments_lexer": "ipython3",
   "version": "3.11.9"
  }
 },
 "nbformat": 4,
 "nbformat_minor": 5
}
